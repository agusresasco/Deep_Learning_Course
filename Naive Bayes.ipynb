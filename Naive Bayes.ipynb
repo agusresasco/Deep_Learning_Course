{
  "nbformat": 4,
  "nbformat_minor": 0,
  "metadata": {
    "colab": {
      "name": "Laboratorio .ipynb",
      "provenance": []
    },
    "kernelspec": {
      "name": "python3",
      "display_name": "Python 3"
    }
  },
  "cells": [
    {
      "metadata": {
        "id": "5MYaQwP0dLGf"
      },
      "cell_type": "markdown",
      "source": [
        "# Naive Bayes Discreto\n",
        "\n",
        "Haremos un clasificador de artículos utilizando un modelo de Naive Bayes discreto. Trabajaremos con el dataset de Twenty News Group. Antes de empezar carguemos el dataset:"
      ]
    },
    {
      "metadata": {
        "id": "cnSlIWEac1mm"
      },
      "cell_type": "code",
      "source": [
        "#Loading the data set - training data.\n",
        "from sklearn.datasets import fetch_20newsgroups\n",
        "twenty_train = fetch_20newsgroups(subset='train', shuffle=False)"
      ],
      "execution_count": 1,
      "outputs": []
    },
    {
      "metadata": {
        "id": "9m-XZO1Gc2v_",
        "colab": {
          "base_uri": "https://localhost:8080/"
        },
        "outputId": "cf347769-5201-4511-96f4-4812baf831b6"
      },
      "cell_type": "code",
      "source": [
        "twenty_train.keys()"
      ],
      "execution_count": 2,
      "outputs": [
        {
          "output_type": "execute_result",
          "data": {
            "text/plain": [
              "dict_keys(['data', 'filenames', 'target_names', 'target', 'DESCR'])"
            ]
          },
          "metadata": {},
          "execution_count": 2
        }
      ]
    },
    {
      "metadata": {
        "id": "OvtYC0qndcGJ",
        "colab": {
          "base_uri": "https://localhost:8080/"
        },
        "outputId": "ae825616-d3eb-4a0a-a7c8-361ec04ff82c"
      },
      "cell_type": "code",
      "source": [
        "len(twenty_train.data) #Cantidad de artículos periodísticos"
      ],
      "execution_count": 3,
      "outputs": [
        {
          "output_type": "execute_result",
          "data": {
            "text/plain": [
              "11314"
            ]
          },
          "metadata": {},
          "execution_count": 3
        }
      ]
    },
    {
      "metadata": {
        "id": "R2MddId4d7EF",
        "colab": {
          "base_uri": "https://localhost:8080/"
        },
        "outputId": "598a52c5-6613-462b-c493-7d9ee2e25498"
      },
      "cell_type": "code",
      "source": [
        "set(twenty_train[\"target\"]) #Clasificaciones de los artículos"
      ],
      "execution_count": 4,
      "outputs": [
        {
          "output_type": "execute_result",
          "data": {
            "text/plain": [
              "{0, 1, 2, 3, 4, 5, 6, 7, 8, 9, 10, 11, 12, 13, 14, 15, 16, 17, 18, 19}"
            ]
          },
          "metadata": {},
          "execution_count": 4
        }
      ]
    },
    {
      "metadata": {
        "id": "fJZkpO1SeAcq",
        "colab": {
          "base_uri": "https://localhost:8080/"
        },
        "outputId": "0ae63c4e-313d-430e-f9be-24bc39204395"
      },
      "cell_type": "code",
      "source": [
        "twenty_train[\"target_names\"] #Referencia de los números de target"
      ],
      "execution_count": 5,
      "outputs": [
        {
          "output_type": "execute_result",
          "data": {
            "text/plain": [
              "['alt.atheism',\n",
              " 'comp.graphics',\n",
              " 'comp.os.ms-windows.misc',\n",
              " 'comp.sys.ibm.pc.hardware',\n",
              " 'comp.sys.mac.hardware',\n",
              " 'comp.windows.x',\n",
              " 'misc.forsale',\n",
              " 'rec.autos',\n",
              " 'rec.motorcycles',\n",
              " 'rec.sport.baseball',\n",
              " 'rec.sport.hockey',\n",
              " 'sci.crypt',\n",
              " 'sci.electronics',\n",
              " 'sci.med',\n",
              " 'sci.space',\n",
              " 'soc.religion.christian',\n",
              " 'talk.politics.guns',\n",
              " 'talk.politics.mideast',\n",
              " 'talk.politics.misc',\n",
              " 'talk.religion.misc']"
            ]
          },
          "metadata": {},
          "execution_count": 5
        }
      ]
    },
    {
      "metadata": {
        "id": "X0byXL5-eFcx",
        "colab": {
          "base_uri": "https://localhost:8080/",
          "height": 139
        },
        "outputId": "a4df3910-d839-45de-d348-f7e7feea75c3"
      },
      "cell_type": "code",
      "source": [
        "twenty_train.data[0] # Primer artículo"
      ],
      "execution_count": 6,
      "outputs": [
        {
          "output_type": "execute_result",
          "data": {
            "text/plain": [
              "\"From: cubbie@garnet.berkeley.edu (                               )\\nSubject: Re: Cubs behind Marlins? How?\\nArticle-I.D.: agate.1pt592$f9a\\nOrganization: University of California, Berkeley\\nLines: 12\\nNNTP-Posting-Host: garnet.berkeley.edu\\n\\n\\ngajarsky@pilot.njin.net writes:\\n\\nmorgan and guzman will have era's 1 run higher than last year, and\\n the cubs will be idiots and not pitch harkey as much as hibbard.\\n castillo won't be good (i think he's a stud pitcher)\\n\\n       This season so far, Morgan and Guzman helped to lead the Cubs\\n       at top in ERA, even better than THE rotation at Atlanta.\\n       Cubs ERA at 0.056 while Braves at 0.059. We know it is early\\n       in the season, we Cubs fans have learned how to enjoy the\\n       short triumph while it is still there.\\n\""
            ],
            "application/vnd.google.colaboratory.intrinsic+json": {
              "type": "string"
            }
          },
          "metadata": {},
          "execution_count": 6
        }
      ]
    },
    {
      "metadata": {
        "id": "alhF9Z41eQhA"
      },
      "cell_type": "markdown",
      "source": [
        "Vamos a aplicar el siguiente procesamiento utilizando los conceptos vistos en clase:\n",
        "\n",
        "* Tokenization (nltk)\n",
        "* Lemmatization (nltk)\n",
        "* Stop Words (nltk)\n",
        "* Stemming (nltk)\n",
        "* Filtrado de palabras\n",
        "* Obtención del vocabulario (countvectorizer)\n",
        "* Transformación de los artículos en vectores\n",
        "* Armado del modelo de Naive Bayes Multinomial\n",
        "* Evaluación con el Train Set\n",
        "* Evaluación con el Test Set"
      ]
    },
    {
      "metadata": {
        "id": "vVNxGZHMeJsH",
        "colab": {
          "base_uri": "https://localhost:8080/"
        },
        "outputId": "4446ca19-3cbf-4152-88ba-dafa44b10f5c"
      },
      "cell_type": "code",
      "source": [
        "import nltk\n",
        "from nltk.tokenize import word_tokenize\n",
        "from nltk.stem import PorterStemmer, WordNetLemmatizer\n",
        "from nltk.corpus import stopwords\n",
        "nltk.download('wordnet')\n",
        "nltk.download('punkt')\n",
        "nltk.download('stopwords')\n",
        "lemmatizer = WordNetLemmatizer()\n",
        "stemmer = PorterStemmer()"
      ],
      "execution_count": 28,
      "outputs": [
        {
          "output_type": "stream",
          "name": "stdout",
          "text": [
            "[nltk_data] Downloading package wordnet to /root/nltk_data...\n",
            "[nltk_data]   Package wordnet is already up-to-date!\n",
            "[nltk_data] Downloading package punkt to /root/nltk_data...\n",
            "[nltk_data]   Package punkt is already up-to-date!\n",
            "[nltk_data] Downloading package stopwords to /root/nltk_data...\n",
            "[nltk_data]   Package stopwords is already up-to-date!\n"
          ]
        }
      ]
    },
    {
      "metadata": {
        "id": "RtB9WY00ewxM",
        "colab": {
          "base_uri": "https://localhost:8080/"
        },
        "outputId": "ba2ce104-97d5-4e35-8770-a60668cd4821"
      },
      "cell_type": "code",
      "source": [
        "#Procesando todos los artículos:\n",
        "articulos_procesados=list()\n",
        "for idx in range(len(twenty_train.data)):\n",
        "    if idx%1000==0:\n",
        "        print(f'se procesaron {idx} artículos')\n",
        "    art=twenty_train.data[idx]\n",
        "    tok=word_tokenize(art)\n",
        "    lem=[lemmatizer.lemmatize(x,pos='v') for x in tok]\n",
        "    stop = [x for x in lem if x not in stopwords.words('english')]\n",
        "    stem=[stemmer.stem(x) for x in stop]\n",
        "    alpha=[x for x in stem if x.isalpha()]\n",
        "    articulos_procesados.append(\" \".join(alpha))"
      ],
      "execution_count": 8,
      "outputs": [
        {
          "output_type": "stream",
          "name": "stdout",
          "text": [
            "se procesaron 0 artículos\n",
            "se procesaron 1000 artículos\n",
            "se procesaron 2000 artículos\n",
            "se procesaron 3000 artículos\n",
            "se procesaron 4000 artículos\n",
            "se procesaron 5000 artículos\n",
            "se procesaron 6000 artículos\n",
            "se procesaron 7000 artículos\n",
            "se procesaron 8000 artículos\n",
            "se procesaron 9000 artículos\n",
            "se procesaron 10000 artículos\n",
            "se procesaron 11000 artículos\n"
          ]
        }
      ]
    },
    {
      "cell_type": "code",
      "source": [
        "#para el tp\n",
        "'usually' in stopwords.words('english')\n",
        "'themselves' in stopwords.words('english')\n",
        "'anything' in stopwords.words('english')"
      ],
      "metadata": {
        "id": "JKf5e_gSr9P5",
        "outputId": "dee006f3-9c74-4803-d867-3cc09d039246",
        "colab": {
          "base_uri": "https://localhost:8080/"
        }
      },
      "execution_count": 26,
      "outputs": [
        {
          "output_type": "execute_result",
          "data": {
            "text/plain": [
              "False"
            ]
          },
          "metadata": {},
          "execution_count": 26
        }
      ]
    },
    {
      "cell_type": "code",
      "source": [
        "#para el tp\n",
        "lemmatizer = WordNetLemmatizer()\n",
        "lemmatizer.lemmatize('being',pos='v')"
      ],
      "metadata": {
        "id": "SIw39COssbVR",
        "outputId": "f502e0a8-0fd8-4558-806f-de6556a66c9c",
        "colab": {
          "base_uri": "https://localhost:8080/",
          "height": 35
        }
      },
      "execution_count": 30,
      "outputs": [
        {
          "output_type": "execute_result",
          "data": {
            "text/plain": [
              "'be'"
            ],
            "application/vnd.google.colaboratory.intrinsic+json": {
              "type": "string"
            }
          },
          "metadata": {},
          "execution_count": 30
        }
      ]
    },
    {
      "cell_type": "code",
      "source": [
        "#para el tp \n",
        "stemmer = PorterStemmer()\n",
        "stemmer.stem('president')"
      ],
      "metadata": {
        "id": "NhRTrdLQs41d",
        "outputId": "fc387914-5603-4381-ef39-eb7c50dcf2af",
        "colab": {
          "base_uri": "https://localhost:8080/",
          "height": 35
        }
      },
      "execution_count": 31,
      "outputs": [
        {
          "output_type": "execute_result",
          "data": {
            "text/plain": [
              "'presid'"
            ],
            "application/vnd.google.colaboratory.intrinsic+json": {
              "type": "string"
            }
          },
          "metadata": {},
          "execution_count": 31
        }
      ]
    },
    {
      "metadata": {
        "id": "PKFI92vSkpv3",
        "colab": {
          "base_uri": "https://localhost:8080/"
        },
        "outputId": "729405eb-01ae-40ec-c6c4-2c4e7dc4db32"
      },
      "cell_type": "code",
      "source": [
        "# Extracting features from articles\n",
        "from sklearn.feature_extraction.text import CountVectorizer\n",
        "count_vect = CountVectorizer(max_df=0.6,min_df=10) #chequear que max_df y min_df sean los que se piden\n",
        "count_vect.fit(articulos_procesados) #Aprende el vocabulario y le asigna un código a cada palabra"
      ],
      "execution_count": 38,
      "outputs": [
        {
          "output_type": "execute_result",
          "data": {
            "text/plain": [
              "CountVectorizer(max_df=0.6, min_df=10)"
            ]
          },
          "metadata": {},
          "execution_count": 38
        }
      ]
    },
    {
      "metadata": {
        "id": "bNuKEHS8nJgz"
      },
      "cell_type": "markdown",
      "source": [
        "En la siguiente celda de código transforme los artículos procesados al vector de cuentas de palabras, es decir, transforme los artículos procesados utilizando el count vectorizer."
      ]
    },
    {
      "metadata": {
        "id": "n0aDvu7_niWR"
      },
      "cell_type": "code",
      "source": [
        "X_train_data = count_vect.transform(articulos_procesados) "
      ],
      "execution_count": 40,
      "outputs": []
    },
    {
      "cell_type": "code",
      "source": [
        "diccionario = count_vect.vocabulary_ #Estos son los índices de cada una de las palabras\n",
        "\n",
        "diccionario.get('presid')"
      ],
      "metadata": {
        "id": "MCSghPFFyd6F",
        "outputId": "8c960e1c-32a5-4adf-b36d-1e607962442a",
        "colab": {
          "base_uri": "https://localhost:8080/"
        }
      },
      "execution_count": 59,
      "outputs": [
        {
          "output_type": "execute_result",
          "data": {
            "text/plain": [
              "4929"
            ]
          },
          "metadata": {},
          "execution_count": 59
        }
      ]
    },
    {
      "cell_type": "code",
      "source": [
        "vocabulary=count_vect.get_feature_names() #Estos nombres de las palabras seleccionadas para el vocabulario, ordenadas por orden alfabético\n",
        "print(vocabulary)"
      ],
      "metadata": {
        "id": "1oQih9jX5clw",
        "outputId": "58ff562a-9511-42e9-f81a-87ec90dd915c",
        "colab": {
          "base_uri": "https://localhost:8080/"
        }
      },
      "execution_count": 60,
      "outputs": [
        {
          "output_type": "stream",
          "name": "stdout",
          "text": [
            "['aa', 'aaa', 'aap', 'aaron', 'ab', 'abandon', 'abc', 'aberr', 'abid', 'abil', 'abl', 'abolish', 'abomin', 'abort', 'abound', 'about', 'abov', 'abpsoft', 'abraham', 'abroad', 'absenc', 'absolut', 'absorb', 'abstract', 'absurd', 'abund', 'abus', 'ac', 'academ', 'academi', 'acceler', 'accept', 'access', 'accessori', 'accid', 'accident', 'accommod', 'accomod', 'accompani', 'accomplish', 'accord', 'account', 'accumul', 'accur', 'accuraci', 'accus', 'achiev', 'achkar', 'acid', 'acknowledg', 'aclu', 'acm', 'acoop', 'acquaint', 'acquir', 'across', 'act', 'action', 'activ', 'activist', 'actual', 'ad', 'adam', 'adapt', 'adaptec', 'adaptor', 'add', 'adda', 'addict', 'addit', 'address', 'adelaid', 'adequ', 'adher', 'adhes', 'adirondack', 'adjac', 'adjust', 'admin', 'administ', 'administr', 'admir', 'admiss', 'admit', 'admittedli', 'adob', 'adolfo', 'adopt', 'adress', 'adrian', 'adult', 'adulteri', 'advanc', 'advantag', 'adventur', 'advert', 'advertis', 'advic', 'advis', 'advisor', 'advisori', 'advoc', 'advocaci', 'aesthet', 'af', 'affair', 'affect', 'affili', 'affirm', 'afflict', 'afford', 'afraid', 'africa', 'african', 'after', 'afternoon', 'afterward', 'ag', 'again', 'against', 'age', 'agenc', 'agenda', 'agent', 'aggrav', 'aggress', 'aggressor', 'agnost', 'ago', 'agre', 'agreement', 'agricultur', 'ah', 'ahead', 'ahl', 'ahm', 'ai', 'aid', 'aiken', 'aim', 'air', 'airbag', 'aircraft', 'airlin', 'airport', 'aix', 'aka', 'akin', 'al', 'ala', 'alabama', 'alamo', 'alan', 'alarm', 'alaska', 'albani', 'albeit', 'albert', 'alberta', 'alberto', 'albuquerqu', 'alchemi', 'alcohol', 'aldu', 'alert', 'alex', 'alexand', 'alexandria', 'algorithm', 'ali', 'alic', 'alien', 'align', 'alik', 'alink', 'aliv', 'all', 'allan', 'alleg', 'allegedli', 'allegheni', 'allen', 'allerg', 'allergi', 'alli', 'allianc', 'alloc', 'allow', 'almanac', 'almost', 'alon', 'along', 'alot', 'alpha', 'alreadi', 'alright', 'also', 'alt', 'alter', 'altern', 'although', 'altitud', 'alto', 'altogeth', 'aluminum', 'alway', 'am', 'ama', 'amateur', 'amaz', 'ambassador', 'ambigu', 'ambush', 'amd', 'amdahl', 'ame', 'amen', 'amend', 'america', 'american', 'amherst', 'ami', 'amiga', 'amin', 'ammo', 'ammunit', 'amo', 'among', 'amongst', 'amount', 'amp', 'ampl', 'amplifi', 'amsterdam', 'amus', 'an', 'analog', 'analys', 'analysi', 'analyst', 'analyz', 'anarchi', 'anatolia', 'ancestor', 'ancient', 'and', 'anderson', 'andi', 'andr', 'andrea', 'andrew', 'anecdot', 'angel', 'anger', 'angl', 'anglia', 'angri', 'ani', 'anim', 'ankara', 'ann', 'annex', 'annihil', 'anniversari', 'announc', 'annoy', 'annual', 'anonym', 'anoth', 'answer', 'ant', 'antenna', 'anthoni', 'anthropolog', 'antibiot', 'anticip', 'antonio', 'anybodi', 'anyhow', 'anymor', 'anyon', 'anyth', 'anytim', 'anyway', 'anywher', 'ap', 'apart', 'apartheid', 'api', 'apocalyps', 'apollo', 'apolog', 'apologist', 'apostl', 'app', 'appal', 'appar', 'appeal', 'appear', 'appl', 'appletalk', 'appli', 'applic', 'appoint', 'appreci', 'appressian', 'approach', 'appropri', 'approv', 'approx', 'approxim', 'apr', 'april', 'apt', 'ar', 'arab', 'arabia', 'arbitrari', 'arbor', 'arc', 'arch', 'archer', 'archi', 'architect', 'architectur', 'archiv', 'are', 'area', 'arena', 'argic', 'argu', 'arguabl', 'arguement', 'argument', 'aris', 'arithmet', 'arizona', 'arlen', 'arlington', 'arm', 'armenia', 'armenian', 'armi', 'armor', 'armour', 'armstrong', 'arnold', 'around', 'arpa', 'arra', 'arrang', 'array', 'arrest', 'arriv', 'arrog', 'arromde', 'arrow', 'arsen', 'art', 'arthur', 'articl', 'artifact', 'artifici', 'artilleri', 'artist', 'as', 'asbesto', 'ascii', 'ash', 'asham', 'asia', 'asian', 'asid', 'asimov', 'ask', 'askew', 'asleep', 'aspect', 'aspir', 'ass', 'assassin', 'assault', 'assembl', 'assert', 'assess', 'asset', 'asshol', 'assign', 'assist', 'associ', 'assort', 'assum', 'assumpt', 'assur', 'asteroid', 'asthma', 'astro', 'astronaut', 'astronom', 'astronomi', 'astrophys', 'at', 'atal', 'atari', 'atf', 'atheism', 'atheist', 'athen', 'athena', 'athiest', 'athlet', 'ati', 'atla', 'atlant', 'atlanta', 'atmospher', 'atom', 'atroc', 'att', 'attach', 'attack', 'attempt', 'attend', 'attent', 'attest', 'attitud', 'attorney', 'attract', 'attribut', 'au', 'audi', 'audienc', 'audio', 'august', 'augustin', 'aura', 'austin', 'australia', 'austria', 'authent', 'author', 'authorit', 'auto', 'autocad', 'autodesk', 'autom', 'automat', 'automobil', 'autonom', 'autopsi', 'autumn', 'av', 'avail', 'ave', 'aveng', 'avenu', 'averag', 'avg', 'avoid', 'aw', 'await', 'awar', 'award', 'away', 'awesom', 'awhil', 'axe', 'axel', 'axi', 'ayn', 'az', 'azerbaijan', 'azerbaijani', 'azeri', 'azoghlin', 'ba', 'baalk', 'babbl', 'babe', 'babi', 'babylon', 'back', 'background', 'backup', 'backward', 'bacon', 'bacteria', 'bad', 'baden', 'badg', 'badli', 'bag', 'bait', 'bake', 'baker', 'balanc', 'bale', 'balk', 'balkan', 'ball', 'ballgam', 'ballpark', 'ballplay', 'baltimor', 'ban', 'band', 'bandi', 'bandwidth', 'bang', 'bank', 'banschbach', 'baptism', 'baptist', 'baptiz', 'bar', 'barbar', 'barbara', 'bare', 'bargain', 'bari', 'barla', 'barman', 'barn', 'barrasso', 'barrel', 'barri', 'barrier', 'bart', 'bartholomew', 'base', 'basebal', 'baseman', 'basement', 'bash', 'basi', 'basic', 'bass', 'bastard', 'bat', 'batch', 'batf', 'bath', 'batman', 'bats', 'batter', 'batteri', 'battl', 'battlefield', 'baud', 'bay', 'bayonet', 'bb', 'bc', 'bd', 'bdira', 'be', 'beach', 'beam', 'bean', 'bear', 'beast', 'beat', 'beauchain', 'beauti', 'beaverton', 'becaus', 'beck', 'beckman', 'becom', 'becuas', 'bed', 'bedford', 'bedroom', 'beef', 'been', 'beep', 'beer', 'befor', 'beg', 'beget', 'begin', 'behalf', 'behanna', 'behav', 'behavior', 'behaviour', 'behind', 'behold', 'beleiv', 'belfour', 'belgarath', 'belgium', 'belief', 'believ', 'beliv', 'bell', 'bellcor', 'bellovin', 'belong', 'belov', 'below', 'belt', 'ben', 'benali', 'bench', 'benchmark', 'bend', 'beneath', 'benedikt', 'benefici', 'benefit', 'benjamin', 'berkeley', 'berlin', 'bernard', 'bertrand', 'besid', 'best', 'bet', 'beta', 'beth', 'bethesda', 'betray', 'better', 'bettman', 'between', 'bewar', 'beyer', 'beyond', 'bferrel', 'bgardner', 'bi', 'bia', 'bianchi', 'bibl', 'biblic', 'bibliographi', 'bid', 'biden', 'big', 'bigger', 'biggest', 'bigot', 'bigotri', 'bike', 'biker', 'bil', 'bill', 'billboard', 'billi', 'billion', 'bin', 'binari', 'bind', 'bio', 'biochemistri', 'biolog', 'bird', 'birth', 'birthday', 'bisexu', 'bishop', 'bit', 'bitch', 'bite', 'bitmap', 'bitnet', 'bizarr', 'bizzar', 'black', 'blackhawk', 'blacksburg', 'blade', 'blah', 'blain', 'blake', 'blame', 'blank', 'blanket', 'blast', 'blaster', 'blatant', 'blaze', 'bldg', 'bleed', 'bless', 'blind', 'blindli', 'blink', 'bliss', 'block', 'blood', 'bloodi', 'bloom', 'blow', 'blue', 'blur', 'blurb', 'blvd', 'bmp', 'bmug', 'bmw', 'bnr', 'bo', 'board', 'boast', 'boat', 'bob', 'bobb', 'bobbi', 'bodi', 'bodili', 'boe', 'boggl', 'bogu', 'bohr', 'boil', 'boldli', 'bollack', 'bolt', 'bomb', 'bombard', 'bond', 'bone', 'bonu', 'book', 'booklet', 'bookstor', 'boom', 'boomer', 'boost', 'booster', 'boot', 'border', 'bore', 'borland', 'borrow', 'bosco', 'bosinan', 'bosio', 'bosnia', 'bosnian', 'boss', 'boston', 'botch', 'both', 'bother', 'bottl', 'bottom', 'boulder', 'boulevard', 'bounc', 'bound', 'boundari', 'bow', 'bowl', 'bowman', 'box', 'boxer', 'boy', 'boycott', 'boyd', 'bp', 'bqueiser', 'bracket', 'brad', 'bradley', 'brain', 'brainwash', 'brake', 'branch', 'brand', 'brandon', 'brandt', 'brass', 'braunschweig', 'brave', 'bread', 'break', 'breakdown', 'breaker', 'breast', 'breath', 'breed', 'brenda', 'brendan', 'brent', 'brett', 'breviti', 'brewer', 'bri', 'brian', 'brick', 'bridg', 'brief', 'briefli', 'brigham', 'bright', 'brighter', 'brilliant', 'bring', 'brinich', 'bristol', 'britain', 'british', 'broad', 'broadcast', 'brook', 'brooklin', 'brother', 'broward', 'brown', 'brows', 'bruce', 'bruin', 'brunswick', 'brush', 'brutal', 'brute', 'bryan', 'bryce', 'bs', 'bsd', 'bskendig', 'btw', 'bu', 'bubbl', 'buck', 'buddhist', 'buddi', 'budget', 'buehler', 'buf', 'buffalo', 'buffer', 'bug', 'buggi', 'build', 'builder', 'built', 'bulb', 'bulk', 'bull', 'bullet', 'bulletin', 'bullpen', 'bullshit', 'bum', 'bump', 'bumper', 'bunch', 'bundl', 'bunker', 'burden', 'bure', 'bureau', 'bureaucraci', 'bureaucrat', 'buri', 'burial', 'burlington', 'burn', 'burnabi', 'burst', 'burster', 'bush', 'busi', 'bust', 'but', 'butcher', 'butler', 'butt', 'button', 'buy', 'buyer', 'buzz', 'by', 'bye', 'byler', 'byte', 'ca', 'cabinet', 'cabl', 'cach', 'cad', 'cage', 'cake', 'cal', 'calcium', 'calcul', 'calder', 'calendar', 'calgari', 'calibr', 'california', 'call', 'callback', 'callison', 'calm', 'caltech', 'calvin', 'cam', 'camaro', 'cambel', 'cambridg', 'camcord', 'camera', 'cameron', 'camp', 'campaign', 'campbel', 'campu', 'camri', 'can', 'canada', 'canadian', 'canadien', 'canal', 'cancel', 'cancer', 'candid', 'candida', 'canist', 'cannon', 'canon', 'cant', 'canuck', 'canyon', 'cap', 'capabl', 'capac', 'capacitor', 'cape', 'capit', 'capitalist', 'capitol', 'capston', 'captain', 'captur', 'car', 'carb', 'carbon', 'card', 'cardena', 'carderock', 'cardin', 'care', 'career', 'cargo', 'carl', 'carleton', 'carlo', 'carlson', 'carnag', 'carnegi', 'carol', 'carolina', 'carpent', 'carpet', 'carr', 'carri', 'carrier', 'carrol', 'cart', 'carter', 'cartridg', 'carv', 'case', 'casey', 'cash', 'cassett', 'cassidi', 'cast', 'castro', 'casual', 'casualti', 'cat', 'catalog', 'catalyst', 'catastroph', 'catch', 'catcher', 'categori', 'catherin', 'cathol', 'cattl', 'caucasian', 'caucasu', 'caus', 'caution', 'cautiou', 'cb', 'cbc', 'cc', 'cd', 'cdc', 'cdrom', 'cdt', 'ceas', 'ceccarelli', 'ceil', 'celebr', 'cell', 'cellar', 'cellular', 'censor', 'censorship', 'censu', 'cent', 'center', 'centr', 'central', 'centri', 'centuri', 'ceremoni', 'certain', 'certainli', 'certifi', 'cf', 'cg', 'cga', 'ch', 'chad', 'chain', 'chair', 'chairman', 'challeng', 'chamber', 'champ', 'champion', 'championship', 'chan', 'chanc', 'chang', 'channel', 'chao', 'chap', 'chapel', 'chapter', 'char', 'charact', 'character', 'characterist', 'charg', 'chariti', 'charl', 'charley', 'charli', 'charm', 'chart', 'charter', 'chase', 'chassi', 'chatham', 'cheap', 'cheapen', 'cheaper', 'cheapest', 'cheapli', 'cheat', 'check', 'checksum', 'cheer', 'chees', 'chelmsford', 'chemic', 'chemistri', 'chen', 'cherri', 'chest', 'chevelda', 'chevi', 'chew', 'chi', 'chicago', 'chicken', 'chief', 'child', 'childhood', 'children', 'chile', 'chill', 'china', 'chines', 'chinet', 'chintan', 'chip', 'chipset', 'choic', 'choke', 'choos', 'chop', 'chri', 'christ', 'christensen', 'christian', 'christma', 'christoph', 'chrome', 'chronic', 'chronicl', 'chu', 'chuck', 'chung', 'chunk', 'chuq', 'church', 'ci', 'cia', 'cica', 'cigarett', 'cincinnati', 'cipher', 'cipriani', 'circa', 'circl', 'circuit', 'circuitri', 'circul', 'circular', 'circumcis', 'circumst', 'citat', 'cite', 'citi', 'citizen', 'civic', 'civil', 'civilian', 'claim', 'clair', 'clara', 'clarif', 'clarifi', 'clark', 'clarkson', 'class', 'classic', 'classifi', 'classmat', 'claus', 'claw', 'clayton', 'clean', 'cleaner', 'cleans', 'clear', 'clearer', 'clearli', 'cleartext', 'clemen', 'clement', 'clemson', 'clergi', 'clerk', 'cleveland', 'clever', 'clh', 'click', 'client', 'cliff', 'climat', 'climb', 'clinic', 'clint', 'clinton', 'clip', 'clipper', 'clock', 'clone', 'close', 'closer', 'closest', 'closet', 'cloth', 'cloud', 'club', 'clue', 'clueless', 'cluster', 'clutch', 'clyde', 'cm', 'cme', 'cmo', 'cnn', 'co', 'coach', 'coalit', 'coast', 'coat', 'cobb', 'cobra', 'cochran', 'cod', 'code', 'coeffici', 'coexist', 'coffe', 'cohen', 'coher', 'coil', 'coin', 'coincid', 'coincident', 'cold', 'cole', 'coleman', 'colin', 'collabor', 'collaps', 'colleagu', 'collect', 'collector', 'colleg', 'collin', 'collis', 'colon', 'coloni', 'color', 'colorado', 'colormap', 'colour', 'columbia', 'columbu', 'column', 'com', 'combat', 'combin', 'come', 'comet', 'comfort', 'comic', 'comm', 'command', 'commect', 'comment', 'commentari', 'commerc', 'commerci', 'commerici', 'commiss', 'commission', 'commit', 'committe', 'commodor', 'common', 'commonli', 'commun', 'communist', 'commut', 'comp', 'compact', 'compani', 'companion', 'compaq', 'compar', 'comparison', 'compart', 'compass', 'compat', 'compel', 'compens', 'compet', 'competit', 'competitor', 'compil', 'complain', 'complaint', 'complet', 'complex', 'compli', 'compliant', 'complic', 'compon', 'compos', 'composit', 'compound', 'comprehend', 'comprehens', 'compress', 'compressor', 'compris', 'compromis', 'compuls', 'compuserv', 'comput', 'con', 'conceal', 'conced', 'conceiv', 'concentr', 'concept', 'conceptu', 'concern', 'concert', 'concess', 'concis', 'conclud', 'conclus', 'concord', 'concordia', 'concour', 'concret', 'concuss', 'condemen', 'condemn', 'condit', 'condon', 'conduct', 'confer', 'confess', 'confid', 'confidenti', 'config', 'configur', 'confin', 'confirm', 'confisc', 'conflict', 'conform', 'confront', 'confus', 'congratul', 'congreg', 'congress', 'congression', 'congressman', 'conjunct', 'conlon', 'connect', 'connector', 'conner', 'connot', 'conquer', 'conquest', 'conscienc', 'consciou', 'conscious', 'consensu', 'consent', 'consequ', 'conserv', 'consid', 'consider', 'consist', 'consol', 'consortium', 'conspiraci', 'constant', 'constantli', 'constitut', 'constrain', 'constraint', 'constru', 'construct', 'consult', 'consum', 'consumpt', 'contact', 'contain', 'contamin', 'contempl', 'contemporari', 'contempt', 'contend', 'content', 'contest', 'context', 'contin', 'continent', 'conting', 'continu', 'contract', 'contractor', 'contractu', 'contradict', 'contradictori', 'contrari', 'contrast', 'contrib', 'contribut', 'contributor', 'control', 'controversi', 'conveni', 'convent', 'convers', 'convert', 'convex', 'convey', 'convict', 'convinc', 'convolut', 'cook', 'cookamunga', 'cookson', 'cool', 'cooler', 'cooper', 'coordin', 'cop', 'cope', 'copi', 'coprocessor', 'copyright', 'cor', 'coradeschi', 'cord', 'cordial', 'core', 'corel', 'corinthian', 'corn', 'cornel', 'corner', 'coron', 'corona', 'corp', 'corpor', 'corps', 'correct', 'correctli', 'correl', 'correspond', 'corros', 'corrupt', 'corval', 'corvett', 'cosmic', 'cosmolog', 'cost', 'costli', 'cough', 'could', 'council', 'counsel', 'count', 'counter', 'counteract', 'counterexampl', 'counterpart', 'counterst', 'counti', 'countri', 'coup', 'coupl', 'courag', 'cours', 'court', 'courtesi', 'cousin', 'coven', 'cover', 'coverag', 'covington', 'cow', 'coward', 'cox', 'cp', 'cpr', 'cpu', 'crack', 'cracker', 'cradl', 'craft', 'craig', 'cramer', 'crap', 'crari', 'crash', 'crawl', 'cray', 'crayton', 'crazi', 'cream', 'creat', 'creation', 'creationist', 'creativ', 'creator', 'creatur', 'credenc', 'credibl', 'credit', 'creed', 'creek', 'crep', 'crew', 'cri', 'crime', 'crimin', 'crippl', 'crisi', 'criteria', 'criterion', 'critic', 'critis', 'critter', 'croat', 'croatia', 'crook', 'crop', 'cross', 'crosspost', 'crowd', 'crowley', 'crown', 'crt', 'crucial', 'crucifi', 'crude', 'cruel', 'cruis', 'cruiser', 'cruncher', 'crusad', 'crush', 'cruz', 'crypto', 'cryptograph', 'cryptographi', 'cryptosystem', 'crystal', 'cs', 'ct', 'ctr', 'cu', 'cub', 'cult', 'cultist', 'cultur', 'cunningham', 'cup', 'cupertino', 'curcio', 'cure', 'curios', 'curiou', 'curious', 'current', 'curs', 'cursor', 'curti', 'curv', 'custom', 'cut', 'cuz', 'cyberspac', 'cycl', 'cylind', 'cynic', 'czech', 'da', 'dad', 'daddi', 'daili', 'dakota', 'dale', 'dalhousi', 'dalla', 'dam', 'damag', 'dame', 'dammit', 'damn', 'damnat', 'damphouss', 'dan', 'dana', 'danc', 'dang', 'danger', 'daniel', 'danni', 'dare', 'daric', 'dark', 'darn', 'darren', 'darrin', 'darryl', 'dart', 'dartmouth', 'darwin', 'daryl', 'dash', 'dat', 'data', 'databas', 'date', 'daughter', 'dave', 'davew', 'davi', 'david', 'davidian', 'davidson', 'davidsson', 'dawn', 'dawson', 'day', 'dayton', 'daytona', 'db', 'dbd', 'dbernard', 'dblspace', 'dc', 'dd', 'de', 'dead', 'deadli', 'deal', 'dealer', 'dealership', 'dean', 'dear', 'death', 'debacl', 'debat', 'debri', 'debt', 'debug', 'debunk', 'dec', 'decad', 'decay', 'deceas', 'deceiv', 'decemb', 'decent', 'decept', 'decid', 'decis', 'deck', 'declar', 'declin', 'decod', 'decompress', 'decre', 'decreas', 'decrypt', 'decwrl', 'dedic', 'deduct', 'deed', 'deem', 'deep', 'deepak', 'deeper', 'deepli', 'default', 'defeat', 'defect', 'defenc', 'defend', 'defens', 'defici', 'deficit', 'defil', 'defin', 'definit', 'deg', 'degener', 'degrad', 'degre', 'deir', 'deiti', 'del', 'delawar', 'delay', 'deleg', 'delet', 'deliber', 'delight', 'deliv', 'deliveri', 'dell', 'delta', 'delus', 'delux', 'demand', 'demo', 'democraci', 'democrat', 'demolish', 'demon', 'demonstr', 'den', 'deni', 'denial', 'denmark', 'denni', 'denomin', 'denot', 'denounc', 'dens', 'densiti', 'dent', 'denver', 'depart', 'departur', 'depend', 'deplor', 'deploy', 'deport', 'deposit', 'depress', 'depriv', 'dept', 'depth', 'der', 'derek', 'deriv', 'descend', 'describ', 'descript', 'desert', 'deserv', 'design', 'desir', 'desk', 'deskjet', 'desktop', 'despair', 'desper', 'despit', 'destin', 'destini', 'destroy', 'destruct', 'det', 'detach', 'detail', 'detect', 'detector', 'determin', 'detriment', 'detroit', 'deuterocanon', 'devast', 'develop', 'deviant', 'deviat', 'devic', 'devil', 'devot', 'devout', 'dhartung', 'di', 'diabet', 'diagnos', 'diagnosi', 'diagnost', 'diagram', 'dial', 'dialog', 'dialogu', 'diamet', 'diamond', 'dian', 'diari', 'diarrhea', 'dichotomi', 'dick', 'dictat', 'dictatorship', 'dictionari', 'did', 'die', 'diego', 'diesel', 'diet', 'dietari', 'differ', 'differenti', 'difficult', 'difficulti', 'dig', 'digest', 'digit', 'digniti', 'dim', 'dimens', 'diminish', 'din', 'ding', 'dinner', 'dino', 'diod', 'dip', 'diplomat', 'dir', 'direct', 'directli', 'director', 'directori', 'dirt', 'dirti', 'disabl', 'disadvantag', 'disagr', 'disagre', 'disallow', 'disappear', 'disappoint', 'disapprov', 'disast', 'disbelief', 'disbeliev', 'disc', 'discard', 'discern', 'discharg', 'discipl', 'disciplin', 'disclaim', 'disclos', 'discomfort', 'disconnect', 'discontinu', 'discount', 'discourag', 'discours', 'discov', 'discoveri', 'discredit', 'discrep', 'discret', 'discrimin', 'discuss', 'diseas', 'disguis', 'disgust', 'dishonest', 'disk', 'diskett', 'dislik', 'dismiss', 'disobey', 'disord', 'disparag', 'dispatch', 'displac', 'display', 'dispos', 'disposit', 'disproportion', 'disprov', 'disput', 'disregard', 'disrupt', 'dissemin', 'dissolv', 'distanc', 'distant', 'distinct', 'distinguish', 'distort', 'distress', 'distribut', 'distributor', 'district', 'disturb', 'dither', 'ditto', 'div', 'dive', 'diverg', 'divers', 'divid', 'dividian', 'divin', 'divis', 'divorc', 'dixi', 'dixon', 'dk', 'dl', 'dma', 'dna', 'do', 'doc', 'dock', 'doctor', 'doctrin', 'document', 'dod', 'dodg', 'dodger', 'doe', 'doesnt', 'dog', 'dogma', 'dollar', 'domain', 'domest', 'domi', 'domin', 'don', 'donald', 'donat', 'dont', 'doom', 'door', 'doorbel', 'dope', 'dorothi', 'dose', 'dot', 'doubl', 'doubt', 'doug', 'dougla', 'down', 'download', 'dozen', 'dp', 'dpi', 'dr', 'draft', 'drag', 'dragon', 'drain', 'dram', 'dramat', 'draper', 'draw', 'drawback', 'drawer', 'dread', 'dream', 'dresden', 'dress', 'drew', 'dri', 'drift', 'drill', 'drink', 'drive', 'drivel', 'driver', 'dro', 'droopi', 'drop', 'drug', 'drum', 'dryden', 'dsg', 'dsp', 'dtr', 'du', 'dual', 'dubiou', 'duck', 'dude', 'due', 'duke', 'dull', 'dumb', 'dump', 'duncan', 'dunn', 'dunno', 'duo', 'duplic', 'durabl', 'durat', 'dure', 'durham', 'dusek', 'dust', 'duti', 'dwell', 'dwi', 'dx', 'dxf', 'dynam', 'each', 'eager', 'eagl', 'ear', 'earl', 'earli', 'earlier', 'earliest', 'earn', 'earth', 'earthli', 'earthquak', 'eas', 'easi', 'easier', 'easiest', 'easili', 'east', 'easter', 'eastern', 'eat', 'eau', 'eavesdrop', 'ebosco', 'ec', 'ecac', 'echo', 'eclips', 'econom', 'economi', 'eczcaw', 'ed', 'eddi', 'eden', 'edg', 'edgar', 'edinburgh', 'edit', 'editor', 'editori', 'edm', 'edmonton', 'edo', 'edt', 'educ', 'edward', 'ee', 'eec', 'eff', 'effect', 'efficaci', 'effici', 'effort', 'eg', 'ega', 'egg', 'eggert', 'eggertj', 'ego', 'egreen', 'egypt', 'egyptian', 'eh', 'eight', 'eighth', 'eighti', 'einstein', 'einstien', 'eisa', 'eisler', 'either', 'eject', 'el', 'elabor', 'elder', 'elderli', 'elect', 'electr', 'electromagnet', 'electron', 'elektronen', 'element', 'elementari', 'eleph', 'elev', 'eli', 'elia', 'elimin', 'eliot', 'elit', 'elizabeth', 'elli', 'ellison', 'eloqu', 'els', 'elsewher', 'elvi', 'emac', 'email', 'emb', 'embarass', 'embargo', 'embarrass', 'embassi', 'embrac', 'emerg', 'emerson', 'emin', 'emiss', 'emit', 'emot', 'emphas', 'emphasi', 'empir', 'employ', 'employe', 'empti', 'emul', 'en', 'enabl', 'enact', 'enclav', 'enclos', 'encod', 'encount', 'encourag', 'encrypt', 'end', 'endeavor', 'endif', 'endless', 'endors', 'endur', 'enemi', 'energet', 'energi', 'enforc', 'eng', 'engag', 'engin', 'engl', 'england', 'english', 'englishman', 'enhanc', 'enjoy', 'enlighten', 'enorm', 'enough', 'ensu', 'ensur', 'entail', 'enter', 'enterpris', 'entertain', 'enthusiast', 'entir', 'entiti', 'entitl', 'entranc', 'entri', 'envelop', 'environ', 'environment', 'envis', 'eo', 'ep', 'ephesian', 'epidem', 'episod', 'eprom', 'eq', 'equal', 'equat', 'equip', 'equival', 'er', 'era', 'eras', 'erect', 'ergo', 'ergonom', 'eric', 'ericsson', 'erik', 'err', 'error', 'erupt', 'es', 'escap', 'escort', 'escrow', 'esd', 'eshneken', 'esp', 'especi', 'espn', 'essay', 'essenc', 'essensa', 'essenti', 'est', 'establish', 'estat', 'estim', 'et', 'etc', 'etern', 'ethan', 'ethernet', 'ethic', 'ethnic', 'eugen', 'europ', 'european', 'evacu', 'evalu', 'evan', 'evangel', 'eve', 'evelyn', 'even', 'event', 'eventu', 'ever', 'everi', 'everybodi', 'everyday', 'everyon', 'everyth', 'everytim', 'everywher', 'evid', 'evil', 'evolut', 'evolv', 'ex', 'exact', 'exactli', 'exagger', 'examin', 'exampl', 'exceed', 'exceedingli', 'excel', 'except', 'excerpt', 'excess', 'exchang', 'excit', 'exclaim', 'exclud', 'exclus', 'excrement', 'excus', 'execut', 'exempt', 'exercis', 'exhaust', 'exhibit', 'exil', 'exist', 'exit', 'exodu', 'exot', 'expand', 'expans', 'expect', 'expel', 'expend', 'expenditur', 'expens', 'experi', 'experiment', 'expert', 'expertis', 'expir', 'explain', 'explan', 'explicit', 'explicitli', 'explod', 'exploit', 'explor', 'explos', 'expo', 'export', 'expos', 'exposur', 'express', 'ext', 'extend', 'extens', 'extent', 'extermin', 'extern', 'extra', 'extract', 'extraordinari', 'extrapol', 'extrem', 'extremist', 'eye', 'eyewit', 'ezekiel', 'fabric', 'face', 'facil', 'facilit', 'fact', 'facto', 'factor', 'factori', 'factual', 'faculti', 'fade', 'fail', 'failur', 'fair', 'fairbank', 'fairli', 'faith', 'fake', 'fall', 'fallaci', 'fals', 'famili', 'familiar', 'famou', 'fan', 'fanat', 'fanatic', 'fanci', 'fantasi', 'fantast', 'faq', 'far', 'farenebt', 'farenel', 'farm', 'farmer', 'farther', 'fascin', 'fascism', 'fascist', 'fashion', 'fast', 'fastbal', 'faster', 'fastest', 'fat', 'fatal', 'fate', 'father', 'fatigu', 'fault', 'faulti', 'favor', 'favorit', 'favour', 'fax', 'fbi', 'fc', 'fcc', 'fcrari', 'fd', 'fdisk', 'fe', 'fear', 'feasibl', 'featur', 'feb', 'februari', 'fed', 'feder', 'fee', 'feed', 'feedback', 'feel', 'feet', 'feingold', 'felix', 'fell', 'fellow', 'fellowship', 'feloni', 'felt', 'femal', 'fenc', 'fenway', 'ferment', 'fermi', 'ferrel', 'fetch', 'feustel', 'fever', 'fewer', 'fi', 'fiction', 'fidonet', 'field', 'fielder', 'fierkelab', 'fifteen', 'fifth', 'fifti', 'fight', 'fighter', 'figur', 'file', 'filenam', 'fill', 'film', 'filter', 'fin', 'final', 'financ', 'financi', 'find', 'finder', 'fine', 'finger', 'finish', 'finit', 'finland', 'finn', 'fire', 'firearm', 'firebird', 'firefight', 'firm', 'firmli', 'first', 'firstclass', 'firstli', 'fischer', 'fish', 'fisher', 'fist', 'fit', 'five', 'fix', 'fl', 'flag', 'flaki', 'flame', 'flammabl', 'flash', 'flat', 'flavor', 'flaw', 'flee', 'flesh', 'flex', 'flexibl', 'fli', 'flight', 'flip', 'float', 'flock', 'flood', 'floor', 'floppi', 'florida', 'flow', 'flower', 'fluid', 'flush', 'flybi', 'flyer', 'fm', 'foam', 'focu', 'fold', 'folk', 'folli', 'follow', 'followup', 'fond', 'font', 'food', 'fool', 'foolish', 'foot', 'footbal', 'for', 'forbid', 'forc', 'ford', 'forecast', 'foreign', 'forest', 'forev', 'forget', 'forgiv', 'fork', 'form', 'formal', 'format', 'former', 'formerli', 'formul', 'formula', 'fornic', 'forsak', 'forsal', 'fort', 'forth', 'forti', 'fortran', 'fortun', 'forum', 'forward', 'foster', 'foul', 'found', 'foundat', 'founder', 'four', 'fourth', 'fox', 'fpu', 'fr', 'fractal', 'fraction', 'fraer', 'fragment', 'frame', 'framework', 'franc', 'franci', 'francisco', 'franjion', 'frank', 'frankli', 'franklin', 'fraser', 'fraud', 'freak', 'fred', 'frederick', 'free', 'freedom', 'freeli', 'freeman', 'freenet', 'freewar', 'freez', 'french', 'freq', 'frequenc', 'frequent', 'fresh', 'freshman', 'fri', 'friction', 'friday', 'friedman', 'friend', 'friendli', 'frighten', 'fro', 'frog', 'front', 'frontal', 'frontier', 'fruit', 'frustrat', 'ft', 'ftp', 'fuck', 'fuel', 'fuer', 'fuhr', 'fulfil', 'full', 'fulli', 'fun', 'function', 'fund', 'fundament', 'fundamentalist', 'fundi', 'funni', 'furi', 'further', 'furthermor', 'fuse', 'fusion', 'futur', 'fuzzi', 'fyi', 'ga', 'gaa', 'gabriel', 'gag', 'gain', 'galact', 'galaxi', 'galileo', 'gall', 'game', 'gamma', 'gang', 'gant', 'gap', 'garag', 'garbag', 'garden', 'gardner', 'gari', 'garrett', 'garrison', 'garrod', 'gasolin', 'gate', 'gatech', 'gateway', 'gather', 'gaug', 'gaut', 'gay', 'gaza', 'gb', 'gc', 'gcc', 'gd', 'ge', 'gear', 'gee', 'geez', 'geico', 'gel', 'gem', 'gen', 'gender', 'gene', 'gener', 'genesi', 'genet', 'geneva', 'geni', 'geniu', 'geno', 'genocid', 'gentil', 'gentlemen', 'gentli', 'genuin', 'geoff', 'geoffrey', 'geograph', 'geolog', 'geometr', 'geometri', 'geophys', 'georg', 'georgia', 'georgian', 'gerald', 'german', 'germani', 'gerri', 'gestur', 'get', 'ghost', 'gi', 'giant', 'gibbon', 'gibson', 'gif', 'gift', 'gig', 'gilbert', 'gill', 'gilmour', 'girl', 'girlfriend', 'give', 'given', 'gl', 'glad', 'glare', 'glass', 'gld', 'glean', 'glen', 'glenn', 'glide', 'global', 'globe', 'glori', 'gloriou', 'glove', 'glow', 'glue', 'gm', 'gmt', 'gnu', 'go', 'goal', 'goali', 'goaltend', 'god', 'goddamn', 'goddard', 'golchowi', 'gold', 'golden', 'golf', 'gon', 'gonzalez', 'good', 'goodby', 'goon', 'gopher', 'gordon', 'gosh', 'gospel', 'goss', 'got', 'gover', 'govern', 'government', 'governor', 'govt', 'goykhman', 'gp', 'gr', 'grab', 'grace', 'grad', 'grade', 'gradi', 'gradual', 'graduat', 'graham', 'grain', 'grand', 'grandfath', 'grandmoth', 'grandpar', 'grant', 'graph', 'graphic', 'grasp', 'grass', 'grate', 'grave', 'graviti', 'gray', 'grayscal', 'great', 'greater', 'greatest', 'greatli', 'greec', 'greed', 'greek', 'green', 'greenbelt', 'greet', 'greg', 'gregg', 'gregori', 'grenad', 'grep', 'gretzki', 'grey', 'grief', 'griffin', 'grind', 'grip', 'gross', 'ground', 'group', 'grove', 'grow', 'growth', 'gs', 'gt', 'gtoal', 'guarante', 'guard', 'guess', 'guest', 'gui', 'guid', 'guidanc', 'guidelin', 'guilt', 'guilti', 'guitar', 'gulf', 'gullibl', 'gun', 'gunfir', 'gunshot', 'guru', 'gut', 'guy', 'guyd', 'ha', 'hab', 'habit', 'hack', 'hacker', 'had', 'hade', 'haggl', 'hail', 'hair', 'hal', 'halat', 'half', 'halfway', 'halifax', 'hall', 'hallam', 'halt', 'ham', 'hama', 'hamilton', 'hammer', 'hammerl', 'hampton', 'han', 'hand', 'handbook', 'handgun', 'handi', 'handl', 'handlebar', 'hang', 'hannib', 'hanov', 'happen', 'happend', 'happi', 'happili', 'har', 'harass', 'harbor', 'hard', 'hardcopi', 'harddisk', 'harder', 'hardest', 'hardli', 'hardwar', 'harley', 'harm', 'harmless', 'harri', 'harsh', 'hart', 'hartford', 'hartil', 'hartung', 'harvard', 'harvey', 'hash', 'hassl', 'hasti', 'hat', 'hatch', 'hatcher', 'hate', 'hathaway', 'hatr', 'haul', 'have', 'haven', 'hawaii', 'hawk', 'hay', 'hayashida', 'hazard', 'hbp', 'hc', 'hd', 'he', 'head', 'headach', 'header', 'headlight', 'headlin', 'headquart', 'heal', 'heali', 'healta', 'health', 'healthi', 'heap', 'hear', 'heart', 'heat', 'heater', 'heaven', 'heavi', 'heavier', 'heavili', 'hebrew', 'heck', 'heel', 'heh', 'height', 'held', 'helicopt', 'hell', 'hello', 'helmet', 'help', 'helpless', 'helsinki', 'hen', 'henc', 'henceforth', 'henderson', 'henri', 'hepat', 'her', 'herbert', 'hercul', 'herd', 'here', 'herebi', 'herein', 'heresi', 'heret', 'heritag', 'hernandez', 'hero', 'hesit', 'heterosexu', 'hewlett', 'hextal', 'hey', 'hhenderson', 'hi', 'hide', 'hierarchi', 'high', 'higher', 'highest', 'highli', 'highlight', 'highway', 'hill', 'him', 'himself', 'hinder', 'hindsight', 'hindu', 'hint', 'hire', 'hirschbeck', 'histor', 'histori', 'historian', 'hit', 'hitch', 'hitler', 'hitter', 'hm', 'hmm', 'hmmm', 'hmmmm', 'ho', 'hobbi', 'hockey', 'hoen', 'hoffmeist', 'hog', 'hold', 'holder', 'hole', 'holi', 'holiday', 'holland', 'holmdel', 'holocaust', 'holt', 'home', 'homeland', 'homer', 'homerun', 'homewood', 'homosexu', 'honda', 'honest', 'honestli', 'honey', 'honor', 'honour', 'hood', 'hook', 'hop', 'hope', 'hopkin', 'horizon', 'horizont', 'hormon', 'horn', 'horrend', 'horribl', 'horrifi', 'horror', 'hors', 'horsepow', 'hose', 'hoskyn', 'hospit', 'host', 'hostag', 'hostil', 'hot', 'hotel', 'hotter', 'hour', 'hous', 'household', 'houston', 'how', 'howard', 'howel', 'howev', 'howl', 'hp', 'hr', 'hrivnak', 'hst', 'hub', 'hubbl', 'huckabay', 'hudson', 'huge', 'hugh', 'huh', 'hulk', 'hull', 'human', 'humanist', 'humbl', 'humor', 'hundr', 'hungri', 'hunt', 'hunter', 'huntsvil', 'hupp', 'hurri', 'hurt', 'husband', 'hussein', 'hut', 'hv', 'hype', 'hypocrisi', 'hypocrit', 'hypothes', 'hypothesi', 'hypothet', 'hz', 'ia', 'ian', 'ibm', 'ic', 'ice', 'icon', 'id', 'ide', 'idea', 'ideal', 'ident', 'identif', 'identifi', 'ideolog', 'idiot', 'idl', 'idler', 'idol', 'ie', 'ieee', 'if', 'iff', 'ignit', 'ignor', 'ii', 'iici', 'iii', 'iisi', 'iivx', 'il', 'ill', 'illeg', 'illinoi', 'illumin', 'illus', 'illustr', 'ilyess', 'im', 'imag', 'imagemagick', 'imagewrit', 'imagin', 'imaginari', 'imakefil', 'imbal', 'imho', 'immacul', 'immatur', 'immedi', 'immens', 'immor', 'immun', 'imo', 'impact', 'impair', 'imparti', 'imper', 'imperi', 'implement', 'impli', 'implic', 'import', 'importantli', 'impos', 'imposs', 'impress', 'imprison', 'improv', 'impuls', 'in', 'inabl', 'inaccur', 'inaccuraci', 'inappropri', 'inc', 'incap', 'incarn', 'incent', 'inch', 'incid', 'incident', 'incit', 'inclin', 'includ', 'inclus', 'incom', 'incompat', 'incompet', 'incomplet', 'inconsist', 'inconveni', 'incorpor', 'incorrect', 'increas', 'increasingli', 'incred', 'increment', 'inde', 'independ', 'index', 'india', 'indian', 'indiana', 'indianapoli', 'indic', 'indict', 'indigo', 'indirect', 'indirectli', 'individu', 'induc', 'indulg', 'industri', 'ineffect', 'ineffici', 'inet', 'inevit', 'inexpens', 'infal', 'infam', 'infant', 'infect', 'infer', 'inferior', 'infield', 'infin', 'infinit', 'inflat', 'inflict', 'influenc', 'influenti', 'info', 'inform', 'informat', 'infrar', 'infrastructur', 'infring', 'ing', 'ingest', 'ingr', 'inhabit', 'inher', 'inherit', 'inhibit', 'inhuman', 'init', 'initi', 'inject', 'injur', 'injuri', 'injustic', 'ink', 'inlin', 'innat', 'inner', 'inning', 'innoc', 'innov', 'input', 'inquir', 'inquiri', 'inquisit', 'insan', 'insert', 'insid', 'insight', 'insignific', 'insist', 'inspect', 'inspir', 'inst', 'instal', 'instanc', 'instant', 'instead', 'instinct', 'institut', 'instruct', 'instrument', 'insuffici', 'insul', 'insult', 'insur', 'int', 'intact', 'intak', 'integ', 'integr', 'intel', 'intellect', 'intellectu', 'intellig', 'intend', 'intens', 'intent', 'interact', 'intercept', 'interchang', 'intercours', 'interest', 'interestingli', 'interfac', 'interfer', 'intergraph', 'interior', 'intermedi', 'intermitt', 'intern', 'internet', 'interpol', 'interpret', 'interrupt', 'intersect', 'interstellar', 'interv', 'interven', 'intervent', 'interview', 'into', 'intoler', 'intrins', 'intro', 'introduc', 'introduct', 'intrud', 'intuit', 'invad', 'invalid', 'invari', 'invas', 'invent', 'invest', 'investig', 'investor', 'invis', 'invit', 'invok', 'involv', 'io', 'ion', 'iowa', 'ip', 'iq', 'ir', 'ira', 'iran', 'iranian', 'iraq', 'iraqi', 'ireland', 'irgun', 'iri', 'irish', 'iron', 'ironi', 'irq', 'irrat', 'irregular', 'irrelev', 'irrespons', 'irrit', 'irvin', 'is', 'isa', 'isaac', 'isaackuo', 'isaiah', 'isbn', 'isl', 'islam', 'island', 'isol', 'isra', 'israel', 'israelit', 'isreal', 'issu', 'ist', 'istanbul', 'isu', 'it', 'itali', 'italian', 'item', 'ithaca', 'itti', 'iv', 'ivan', 'jack', 'jacket', 'jackson', 'jacob', 'jacqu', 'jacquelin', 'jaeger', 'jagr', 'jaguar', 'jail', 'jake', 'jam', 'jame', 'jami', 'jan', 'janet', 'januari', 'japan', 'japanes', 'jaskew', 'jason', 'jay', 'jb', 'jbrown', 'jc', 'je', 'jean', 'jeez', 'jeff', 'jefferson', 'jeffrey', 'jek', 'jen', 'jenk', 'jennif', 'jeremi', 'jeremiah', 'jerk', 'jerom', 'jerri', 'jersey', 'jerusalem', 'jess', 'jesu', 'jet', 'jew', 'jewish', 'jhan', 'jhart', 'jhpb', 'jhupp', 'jim', 'jimmi', 'jkjec', 'jlevin', 'jmd', 'jmh', 'joakim', 'joan', 'job', 'jodi', 'joe', 'joel', 'john', 'johnson', 'johnston', 'join', 'joint', 'joke', 'jon', 'jonathan', 'jone', 'jonestown', 'jordan', 'jorg', 'jose', 'joseph', 'josephu', 'josh', 'joshua', 'josip', 'journal', 'journalist', 'jovanov', 'joy', 'joystick', 'jp', 'jpeg', 'jpg', 'jpl', 'jr', 'jrm', 'jth', 'ju', 'juan', 'judaism', 'jude', 'judg', 'judgement', 'judgment', 'judici', 'juli', 'julian', 'jump', 'jumper', 'june', 'junior', 'junk', 'jupit', 'juri', 'jurisdict', 'just', 'justic', 'justif', 'justifi', 'justin', 'ka', 'kaflowitz', 'kaldi', 'kane', 'kansa', 'kar', 'karabakh', 'karen', 'karl', 'kasey', 'kaufman', 'kawasaki', 'kay', 'kb', 'kdb', 'kdw', 'keep', 'keeper', 'keith', 'keller', 'kelley', 'kelli', 'kelsey', 'kempmp', 'ken', 'kendig', 'kennedi', 'kennej', 'kenneth', 'kent', 'kentucki', 'kermit', 'kernel', 'kerosen', 'kevin', 'key', 'keyboard', 'keyword', 'kg', 'khan', 'khayash', 'khomeini', 'khouzam', 'khz', 'kick', 'kid', 'kidnap', 'kidney', 'kidson', 'kiefer', 'kill', 'killer', 'kilmer', 'kim', 'kimbal', 'kind', 'kinda', 'kindli', 'king', 'kingdom', 'kingston', 'kinsey', 'kirk', 'kirlian', 'kiss', 'kit', 'kitchen', 'kjenk', 'kludg', 'km', 'knee', 'knife', 'knight', 'knock', 'know', 'knowingli', 'knowledg', 'koberg', 'kodak', 'kojian', 'kolstad', 'koran', 'korea', 'korean', 'koresh', 'kotb', 'krillean', 'krumin', 'ks', 'ksand', 'kschang', 'kubota', 'kuo', 'kurd', 'kurdish', 'kurt', 'kuwait', 'kw', 'kwolfer', 'kyle', 'la', 'lab', 'label', 'labor', 'laboratori', 'labour', 'lack', 'ladi', 'lafontain', 'laissez', 'lake', 'lam', 'lamb', 'lame', 'lamp', 'lan', 'lanc', 'land', 'landscap', 'lane', 'lang', 'langley', 'languag', 'lantern', 'laptop', 'larg', 'larger', 'largest', 'larkin', 'larri', 'laser', 'laserjet', 'laserwrit', 'last', 'lastli', 'late', 'later', 'latest', 'latex', 'latin', 'latonia', 'latter', 'lau', 'laudicina', 'laugh', 'laughter', 'launch', 'launcher', 'laurenc', 'laurentian', 'lauri', 'law', 'lawn', 'lawrenc', 'lawyer', 'lay', 'layer', 'layout', 'lazaru', 'lazi', 'lb', 'lc', 'lcd', 'lciii', 'ld', 'le', 'lead', 'leader', 'leadership', 'leaf', 'leagu', 'leak', 'lean', 'leap', 'learn', 'leas', 'least', 'leather', 'leav', 'lebanon', 'lectur', 'led', 'lee', 'left', 'leftist', 'leg', 'legal', 'legend', 'legendari', 'legion', 'legisl', 'legitim', 'lehigh', 'lemieux', 'lemon', 'len', 'lend', 'length', 'lengthi', 'lens', 'leo', 'leon', 'leonard', 'lesbian', 'lesli', 'less', 'lesser', 'lesson', 'lest', 'let', 'lethal', 'letter', 'lev', 'level', 'levi', 'levin', 'leviticu', 'lewi', 'lexu', 'lh', 'li', 'liabil', 'liabl', 'liar', 'lib', 'liber', 'libertarian', 'liberti', 'librari', 'licenc', 'licens', 'lick', 'lie', 'life', 'lifestyl', 'lifetim', 'lift', 'light', 'lighter', 'lightn', 'like', 'likewis', 'lilley', 'limit', 'lin', 'lincoln', 'linear', 'lineup', 'linguist', 'link', 'linu', 'linux', 'lion', 'lioness', 'lip', 'liquid', 'lisa', 'list', 'listen', 'listserv', 'liter', 'literari', 'literatur', 'littl', 'liu', 'live', 'liver', 'livesey', 'livni', 'llama', 'llanw', 'llo', 'lo', 'load', 'loan', 'lobbi', 'local', 'locat', 'lock', 'lodg', 'log', 'logic', 'login', 'logitech', 'logo', 'loncar', 'london', 'lone', 'long', 'longer', 'look', 'loop', 'loos', 'loral', 'lord', 'lose', 'loser', 'loss', 'lost', 'lot', 'lotu', 'lou', 'loud', 'loudli', 'loudspeak', 'loui', 'louisiana', 'louisvil', 'louray', 'lousi', 'love', 'lover', 'low', 'lowel', 'lower', 'lowest', 'loyal', 'loyalti', 'lp', 'lpt', 'ls', 'ltd', 'lu', 'luck', 'lucki', 'luckili', 'ludicr', 'lui', 'luke', 'lunar', 'lunat', 'lunch', 'lung', 'luri', 'luriem', 'lurk', 'lust', 'luther', 'lutheran', 'luxuri', 'lvc', 'lw', 'lx', 'ly', 'lynn', 'ma', 'mac', 'macalest', 'mach', 'machin', 'macintosh', 'mack', 'macro', 'macweek', 'macworld', 'mad', 'madden', 'made', 'madison', 'madman', 'mae', 'mag', 'magazin', 'magic', 'magnet', 'magnitud', 'mail', 'mailbox', 'main', 'mainfram', 'mainli', 'mainstream', 'maintain', 'mainten', 'majesti', 'major', 'make', 'makefil', 'maker', 'malarchuk', 'malcolm', 'male', 'malici', 'mamayski', 'man', 'manag', 'manchest', 'mandat', 'mandatori', 'mandock', 'manhattan', 'mani', 'manifest', 'manipul', 'manitoba', 'mankind', 'manner', 'manti', 'manual', 'manufactur', 'manuscript', 'map', 'mapl', 'mar', 'marc', 'march', 'marcu', 'margin', 'mari', 'marietta', 'marin', 'mario', 'mark', 'market', 'marku', 'marlboro', 'marlborough', 'marri', 'marriag', 'marshal', 'marti', 'martin', 'martinez', 'martyr', 'marvel', 'maryland', 'mask', 'mason', 'mass', 'massachusett', 'massacr', 'massiv', 'master', 'masturb', 'mat', 'match', 'mate', 'materi', 'math', 'mathemat', 'mathew', 'matrix', 'matt', 'matter', 'matthew', 'mattingli', 'matur', 'max', 'maxim', 'maxima', 'maximum', 'maxtor', 'maxwel', 'may', 'mayan', 'mayb', 'maynard', 'mayo', 'mazda', 'mb', 'mc', 'mcc', 'mccall', 'mccarthi', 'mccullou', 'mccullough', 'mcdonald', 'mcelwain', 'mcgill', 'mcguir', 'mclean', 'mcovingt', 'mcsun', 'md', 'me', 'mead', 'meal', 'mean', 'meaning', 'meaningless', 'meantim', 'meanwhil', 'measur', 'meat', 'mechan', 'med', 'media', 'median', 'medic', 'medicin', 'mediev', 'mediocr', 'medium', 'meet', 'meg', 'megabyt', 'mehl', 'mel', 'melbourn', 'melkonian', 'mellon', 'melt', 'member', 'membership', 'meme', 'memoir', 'memor', 'memori', 'men', 'meng', 'mental', 'mention', 'menu', 'mercer', 'merchant', 'merci', 'mercuri', 'mere', 'merg', 'merit', 'merlin', 'mesh', 'mess', 'messag', 'messeng', 'messiah', 'met', 'metal', 'metaphor', 'metaphys', 'meter', 'method', 'metzger', 'mexican', 'mexico', 'meyer', 'mfm', 'mg', 'mgr', 'mhz', 'mi', 'miami', 'mice', 'michael', 'michel', 'michigan', 'mickey', 'micro', 'microcomput', 'micron', 'microphon', 'microscop', 'microsoft', 'microsystem', 'microwav', 'mid', 'middl', 'midelfort', 'midi', 'midnight', 'midst', 'midwest', 'might', 'mighti', 'migrain', 'mike', 'mild', 'mildli', 'mile', 'mileag', 'milit', 'militari', 'militia', 'milk', 'mill', 'miller', 'million', 'milwauke', 'min', 'mind', 'mindset', 'mine', 'miner', 'mini', 'minim', 'minimum', 'minist', 'ministri', 'minivan', 'minneapoli', 'minnesota', 'minor', 'mint', 'minu', 'minut', 'miracl', 'miracul', 'mirror', 'misc', 'miscellan', 'misconcept', 'miser', 'miseri', 'misguid', 'misinform', 'mislead', 'misplac', 'misrepres', 'misrepresent', 'miss', 'missil', 'mission', 'missionari', 'missouri', 'mistak', 'misunderstand', 'misus', 'mit', 'mitchel', 'mitr', 'mitsubishi', 'mix', 'mixtur', 'mj', 'mjone', 'mk', 'ml', 'mlb', 'mlee', 'mm', 'mmm', 'mn', 'mo', 'mob', 'mobil', 'mod', 'mode', 'model', 'modem', 'moder', 'modern', 'modif', 'modifi', 'modul', 'modular', 'mogilni', 'moham', 'moin', 'moistur', 'mold', 'molecul', 'molecular', 'molest', 'mom', 'moment', 'mon', 'monash', 'mond', 'monday', 'money', 'monica', 'monitor', 'mono', 'monochrom', 'monogam', 'monopoli', 'monster', 'mont', 'montana', 'month', 'monthli', 'montreal', 'moog', 'moon', 'moor', 'moot', 'moral', 'more', 'moreov', 'morgan', 'mormon', 'morn', 'moron', 'morri', 'mortal', 'moscow', 'mose', 'moslem', 'mosqu', 'most', 'mostli', 'mother', 'motherboard', 'motif', 'motion', 'motiv', 'motor', 'motorcycl', 'motorcyclist', 'motorola', 'mound', 'mount', 'mountain', 'mourn', 'mous', 'mouth', 'move', 'movement', 'movi', 'mow', 'mower', 'mp', 'mpg', 'mph', 'mr', 'mre', 'mri', 'ms', 'msdo', 'mserv', 'msf', 'msg', 'mss', 'mt', 'mtv', 'much', 'mud', 'mufti', 'muhammad', 'muller', 'multimedia', 'multipl', 'multipli', 'multitask', 'munich', 'murder', 'murphi', 'murray', 'muscl', 'museum', 'music', 'musician', 'muslim', 'must', 'mustang', 'mutant', 'mute', 'mutual', 'mv', 'mvp', 'mwilson', 'my', 'myer', 'myrto', 'mysteri', 'mystic', 'myth', 'mythic', 'mytholog', 'na', 'nagl', 'nah', 'nail', 'naiv', 'nake', 'name', 'nanao', 'nanci', 'napervil', 'narrow', 'nasa', 'nasti', 'nate', 'nathan', 'nathaniel', 'nation', 'nationalist', 'nativ', 'natur', 'naval', 'navi', 'navig', 'nazi', 'nc', 'ncar', 'ncr', 'ne', 'nea', 'neal', 'near', 'nearbi', 'nearest', 'nearli', 'neat', 'nebraska', 'nec', 'neccessari', 'necess', 'necessari', 'necessarili', 'neck', 'need', 'needl', 'needless', 'neeli', 'neg', 'neglect', 'neglig', 'negoti', 'neighbor', 'neighborhood', 'neighbour', 'neil', 'neither', 'nelson', 'nerv', 'nervou', 'net', 'netcom', 'netherland', 'netnew', 'netter', 'network', 'neural', 'neutral', 'nevada', 'never', 'nevertheless', 'new', 'newark', 'newbi', 'newcastl', 'newer', 'newest', 'newli', 'newman', 'news', 'newsgroup', 'newslett', 'newspap', 'newton', 'next', 'nextstep', 'nexu', 'nf', 'nfl', 'ng', 'nh', 'nhl', 'nhma', 'ni', 'nice', 'nichol', 'nichola', 'nick', 'nicknam', 'nifti', 'nigel', 'night', 'nightmar', 'nimast', 'nine', 'ninja', 'ninjait', 'ninth', 'nissan', 'nist', 'nitrogen', 'niv', 'nixon', 'nj', 'nl', 'nm', 'nn', 'no', 'nobl', 'nobodi', 'nod', 'node', 'nois', 'noisi', 'nomad', 'nomin', 'non', 'none', 'nonetheless', 'nonsens', 'noon', 'nope', 'nor', 'nore', 'norm', 'normal', 'norman', 'norri', 'north', 'northeastern', 'northern', 'northwest', 'northwestern', 'norton', 'norway', 'norwegian', 'nose', 'not', 'notabl', 'note', 'notebook', 'noth', 'notic', 'notifi', 'notion', 'notori', 'notr', 'nottingham', 'notwithstand', 'nova', 'novel', 'novemb', 'novic', 'now', 'nowaday', 'nowher', 'noy', 'npr', 'nra', 'ns', 'nsa', 'nsmca', 'nsw', 'nswc', 'nt', 'nth', 'ntsc', 'nu', 'nubu', 'nuclear', 'null', 'number', 'numer', 'nunneri', 'nuntiu', 'nurs', 'nut', 'nutrit', 'ny', 'nyc', 'nye', 'nyeda', 'nyi', 'nyx', 'nz', 'oaf', 'oak', 'oakland', 'oat', 'oath', 'ob', 'obedi', 'obey', 'obispo', 'object', 'oblig', 'obnoxi', 'obo', 'obp', 'obscur', 'observ', 'observatori', 'obsess', 'obsolet', 'obtain', 'obviou', 'obvious', 'occas', 'occasion', 'occassion', 'occup', 'occupi', 'occur', 'ocean', 'oct', 'octob', 'odd', 'ode', 'odwyer', 'of', 'off', 'offend', 'offens', 'offer', 'offic', 'offici', 'offset', 'often', 'oh', 'ohanu', 'ohio', 'ohm', 'oil', 'oiler', 'ok', 'okay', 'okcforum', 'oklahoma', 'ol', 'olchowi', 'old', 'older', 'oliv', 'olson', 'olwm', 'olymp', 'om', 'omega', 'omiss', 'omit', 'omnipot', 'on', 'onc', 'one', 'oneself', 'ongo', 'onli', 'onlin', 'ontario', 'onto', 'ooo', 'oop', 'oort', 'op', 'open', 'openli', 'openlook', 'openwindow', 'oper', 'opinion', 'oppon', 'opportun', 'oppos', 'opposit', 'oppress', 'opt', 'optic', 'optilink', 'optim', 'optimist', 'option', 'or', 'oracl', 'oral', 'orang', 'orbit', 'orchid', 'ordain', 'order', 'ordin', 'ordinari', 'oregon', 'organis', 'orient', 'origin', 'oriolefan', 'orlando', 'orlean', 'orthodox', 'os', 'osborn', 'oscil', 'osteopath', 'osu', 'ot', 'otc', 'other', 'otherrealm', 'otherwis', 'ott', 'ottawa', 'ottoman', 'ought', 'oulu', 'ounc', 'our', 'out', 'outcom', 'outdoor', 'outer', 'outfield', 'outfit', 'outlaw', 'outlet', 'outlin', 'output', 'outrag', 'outright', 'outsid', 'outstand', 'oven', 'over', 'overack', 'overal', 'overburden', 'overcom', 'overhead', 'overlap', 'overlay', 'overli', 'overlook', 'overnight', 'overreact', 'overrid', 'oversea', 'overthrow', 'overtim', 'overview', 'overwhelm', 'ow', 'owe', 'owen', 'own', 'owner', 'ownership', 'oxford', 'oxid', 'oxygen', 'oxymoron', 'oz', 'ozal', 'ozon', 'pa', 'pace', 'pacif', 'pack', 'packag', 'packard', 'packet', 'pact', 'pad', 'pagan', 'page', 'pain', 'paint', 'pair', 'pal', 'palac', 'pale', 'palestin', 'palestinian', 'palett', 'pallet', 'palmer', 'palo', 'pan', 'panayiotaki', 'panel', 'panic', 'panix', 'pant', 'paper', 'paperback', 'paperwork', 'par', 'paradox', 'paragraph', 'parallax', 'parallel', 'paramet', 'paranoia', 'paranoid', 'paranorm', 'paraphras', 'pardon', 'parent', 'pari', 'pariti', 'park', 'parkway', 'parr', 'pars', 'parsli', 'part', 'parti', 'partial', 'particip', 'particl', 'particular', 'particularli', 'partit', 'partli', 'partner', 'partnership', 'pasadena', 'pascal', 'pass', 'passag', 'passeng', 'passer', 'passion', 'passiv', 'passport', 'password', 'past', 'pastor', 'pat', 'patch', 'patent', 'path', 'pathet', 'patholog', 'patienc', 'patient', 'patrick', 'patriot', 'pattern', 'paul', 'paus', 'paw', 'pay', 'payload', 'payment', 'pb', 'pc', 'pcx', 'pd', 'peac', 'peaceful', 'peak', 'peculiar', 'pedal', 'peer', 'peg', 'pen', 'penalti', 'pend', 'penetr', 'penguin', 'penn', 'penni', 'pennsylvania', 'peopl', 'per', 'perceiv', 'percent', 'percentag', 'percept', 'perfect', 'perfectli', 'perform', 'performa', 'perhap', 'period', 'peripher', 'perish', 'perman', 'permiss', 'permit', 'perpetr', 'perpetu', 'perri', 'persecut', 'persia', 'persian', 'persist', 'person', 'personnel', 'perspect', 'persuad', 'persuas', 'pertain', 'pertin', 'pervers', 'pervert', 'pet', 'petaluma', 'petch', 'pete', 'peter', 'peterson', 'petit', 'petri', 'petti', 'pg', 'pgf', 'pgh', 'pgp', 'ph', 'pharise', 'phase', 'phd', 'phenomena', 'phenomenon', 'phil', 'philadelphia', 'philip', 'phill', 'philli', 'phillip', 'philosoph', 'philosophi', 'phoenix', 'phone', 'photo', 'photograph', 'photographi', 'photoshop', 'phrase', 'physic', 'physician', 'physicist', 'physiolog', 'pi', 'pic', 'pick', 'pickup', 'pictur', 'piec', 'pierc', 'pierr', 'pig', 'pihko', 'pilchuck', 'pile', 'pill', 'pillion', 'pilot', 'pin', 'pinch', 'pine', 'pink', 'pinka', 'pinout', 'pioneer', 'pip', 'pipe', 'pirat', 'piss', 'pistol', 'pit', 'pitch', 'pitcher', 'piti', 'pitt', 'pittsburgh', 'pixel', 'pixmap', 'pizza', 'pl', 'place', 'placebo', 'plagu', 'plain', 'plainli', 'plaintext', 'plan', 'plane', 'planet', 'planetari', 'plant', 'plastic', 'plat', 'plate', 'plateau', 'platform', 'plausibl', 'play', 'playboy', 'player', 'playoff', 'plc', 'plead', 'pleas', 'pleasant', 'pleasur', 'pledg', 'plenti', 'plo', 'plot', 'plu', 'plug', 'plural', 'pluto', 'plymouth', 'pm', 'pmetzger', 'po', 'pocket', 'pocklington', 'pogrom', 'point', 'pointer', 'pointless', 'poison', 'poke', 'polar', 'pole', 'polic', 'polici', 'polish', 'polit', 'politician', 'poll', 'pollut', 'polygon', 'polytechn', 'pond', 'ponder', 'pontiac', 'pontif', 'pool', 'poor', 'poorli', 'pop', 'pope', 'popul', 'popular', 'porsch', 'port', 'portabl', 'portal', 'portion', 'portland', 'portrait', 'portray', 'pose', 'posit', 'possess', 'possibl', 'post', 'postag', 'postal', 'poster', 'postmast', 'postscript', 'pot', 'potenti', 'potvin', 'pound', 'pour', 'pov', 'poverti', 'powder', 'powel', 'power', 'powerbook', 'powerless', 'powerplay', 'pp', 'ppm', 'pr', 'prabhak', 'prabhakar', 'practic', 'practis', 'practition', 'prais', 'pray', 'prayer', 'prb', 'pre', 'preach', 'preacher', 'preced', 'preciou', 'precis', 'preclud', 'predat', 'predict', 'prefer', 'pregnanc', 'pregnant', 'pregnenc', 'prejudic', 'preliminari', 'premis', 'premium', 'prepar', 'presbyterian', 'prescrib', 'prescript', 'presenc', 'present', 'preserv', 'presid', 'presidenti', 'press', 'pressur', 'presum', 'pretend', 'pretti', 'prevail', 'prevent', 'preview', 'previou', 'previous', 'prey', 'pri', 'price', 'pride', 'priest', 'primari', 'primarili', 'prime', 'primer', 'primit', 'princ', 'princeton', 'princip', 'principl', 'print', 'printer', 'prior', 'priori', 'prioriti', 'prism', 'prison', 'privaci', 'privat', 'privileg', 'prize', 'pro', 'probabl', 'probe', 'probert', 'problem', 'procedur', 'proceed', 'process', 'processor', 'proclaim', 'procur', 'produc', 'product', 'profess', 'profession', 'professor', 'profil', 'profit', 'program', 'programm', 'progress', 'prohibit', 'project', 'prolong', 'promis', 'promiscu', 'promot', 'prompt', 'prone', 'pronounc', 'proof', 'propag', 'propaganda', 'propan', 'proper', 'properli', 'properti', 'propheci', 'prophesi', 'prophet', 'propon', 'proport', 'proportion', 'propos', 'proposit', 'proprietari', 'propuls', 'prosecut', 'prospect', 'prostitut', 'protect', 'protein', 'protest', 'protocol', 'prototyp', 'proud', 'prove', 'proverb', 'provid', 'provinc', 'provinci', 'provis', 'provoc', 'provok', 'ps', 'psalm', 'pseudonym', 'psycholog', 'psyrobtw', 'pt', 'pti', 'pub', 'public', 'publicli', 'publish', 'puck', 'pull', 'puls', 'pump', 'pun', 'punch', 'punish', 'purchas', 'purdu', 'pure', 'purpos', 'pursu', 'pursuit', 'push', 'put', 'puzzl', 'pyramid', 'quack', 'quadra', 'qualcomm', 'qualifi', 'qualiti', 'quantifi', 'quantiti', 'quantiz', 'quantum', 'quarter', 'quarterli', 'que', 'quebec', 'queen', 'queer', 'queiser', 'queri', 'quest', 'question', 'quibbl', 'quick', 'quickli', 'quicktim', 'quiet', 'quietli', 'quit', 'quot', 'quotat', 'ra', 'rabbit', 'rabin', 'race', 'rachel', 'racial', 'racism', 'racist', 'radar', 'radiat', 'radic', 'radio', 'radioact', 'radiu', 'raffi', 'rag', 'raid', 'rail', 'rain', 'rainer', 'rais', 'ralli', 'ralph', 'ram', 'rambl', 'ranch', 'rand', 'randal', 'randi', 'random', 'randomli', 'rang', 'ranger', 'rank', 'rant', 'rap', 'rape', 'rapid', 'rapidli', 'rare', 'raster', 'rat', 'rate', 'rather', 'ratio', 'ration', 'rational', 'rave', 'raw', 'rawlin', 'rawlinson', 'ray', 'raymond', 'raytrac', 'rbi', 'rc', 'rd', 'rde', 'reach', 'react', 'reaction', 'read', 'reader', 'readership', 'readi', 'readili', 'readm', 'reagan', 'real', 'reali', 'realis', 'realist', 'realiti', 'realiz', 'realli', 'realm', 'realtim', 'rear', 'reason', 'rebellion', 'reboot', 'rebound', 'rebuild', 'rebutt', 'rec', 'recal', 'receipt', 'receiv', 'recent', 'recept', 'reciev', 'recip', 'recipi', 'recogn', 'recognis', 'recognit', 'recollect', 'recommend', 'reconcil', 'reconstruct', 'record', 'recov', 'recoveri', 'recreat', 'recruit', 'rectangl', 'recur', 'red', 'redeem', 'redesign', 'redirect', 'redistribut', 'redraw', 'reduc', 'reduct', 'redund', 'redwood', 'reed', 'ref', 'refer', 'refere', 'refin', 'reflect', 'reform', 'reformat', 'refrain', 'refresh', 'refug', 'refuge', 'refund', 'refus', 'refut', 'regard', 'regardless', 'regim', 'region', 'regist', 'registr', 'regret', 'regul', 'regular', 'regularli', 'reign', 'reincarn', 'reinforc', 'reinstal', 'reiter', 'reject', 'rel', 'relat', 'relationship', 'relativ', 'relax', 'relay', 'releas', 'releg', 'relev', 'reli', 'reliabl', 'relief', 'reliev', 'relig', 'religi', 'religion', 'reluct', 'remain', 'remaind', 'remark', 'remeb', 'remedi', 'rememb', 'remind', 'remot', 'remov', 'renam', 'render', 'rene', 'renew', 'reno', 'renssela', 'rent', 'rep', 'repair', 'repeat', 'repeatedli', 'repel', 'repent', 'rephras', 'replac', 'replay', 'repli', 'repo', 'report', 'repost', 'repres', 'represent', 'repress', 'reprint', 'reproduc', 'reproduct', 'republ', 'republican', 'reput', 'request', 'requir', 'rescu', 'research', 'resembl', 'reserv', 'reset', 'resid', 'resign', 'resist', 'resistor', 'resiz', 'resolut', 'resolv', 'reson', 'resort', 'resourc', 'respect', 'respond', 'respons', 'responsibl', 'rest', 'restart', 'restat', 'restaur', 'restor', 'restrict', 'result', 'resum', 'resurrect', 'retail', 'retain', 'rethink', 'retina', 'retir', 'retract', 'retreat', 'retriev', 'return', 'rev', 'revdak', 'reveal', 'revel', 'reveng', 'revenu', 'revers', 'review', 'revis', 'revisionist', 'revisit', 'revolt', 'revolut', 'revolutionari', 'revolv', 'reward', 'rewrit', 'rex', 'rexlex', 'reza', 'rf', 'rgb', 'rhetor', 'rhode', 'ribbon', 'rice', 'rich', 'richard', 'richardson', 'richmond', 'rick', 'rickey', 'rid', 'ride', 'rider', 'ridg', 'ridicul', 'rifl', 'rig', 'right', 'righteou', 'righteous', 'rime', 'rind', 'ring', 'riot', 'rip', 'risc', 'rise', 'risk', 'riski', 'rite', 'ritual', 'rival', 'river', 'rle', 'rm', 'rn', 'road', 'roar', 'rob', 'robbi', 'robbin', 'robert', 'robertson', 'robin', 'robinson', 'robot', 'robust', 'rochest', 'rock', 'rockefel', 'rocket', 'rocki', 'rod', 'rodger', 'rodney', 'roger', 'role', 'roll', 'roller', 'rom', 'roman', 'rome', 'ron', 'ronald', 'ronzon', 'roof', 'rooki', 'room', 'root', 'rosa', 'rose', 'rosenau', 'rospach', 'ross', 'rotaract', 'rotat', 'rough', 'roughli', 'round', 'roush', 'rout', 'routin', 'row', 'roy', 'royal', 'rpm', 'rr', 'rs', 'rsa', 'rt', 'rtp', 'rub', 'rubber', 'rubbl', 'rubin', 'ruin', 'rule', 'ruler', 'rumor', 'rumour', 'run', 'runner', 'rural', 'rush', 'rushdi', 'rusnew', 'russ', 'russel', 'russia', 'russian', 'russotto', 'rust', 'rusti', 'rutger', 'ruth', 'ruthlessli', 'rvesterm', 'rw', 'rwing', 'ryan', 'sa', 'saab', 'sabin', 'sabo', 'sabr', 'sach', 'sack', 'sacr', 'sacrific', 'sad', 'saddam', 'sadek', 'sadli', 'safe', 'safeguard', 'safer', 'safeti', 'saga', 'sahak', 'sail', 'saint', 'sake', 'salari', 'sale', 'salem', 'salesman', 'salt', 'salvag', 'salvat', 'sam', 'same', 'sammon', 'sampl', 'samuel', 'san', 'sanctifi', 'sanction', 'sand', 'sander', 'sandvik', 'sane', 'santa', 'sarcasm', 'sat', 'satan', 'satellit', 'satisfact', 'satisfi', 'satur', 'saturday', 'saturn', 'satya', 'saudi', 'savag', 'save', 'saver', 'savior', 'saw', 'say', 'sb', 'sc', 'scale', 'scan', 'scanner', 'scar', 'scarc', 'scare', 'scari', 'scatter', 'scenario', 'scene', 'sceptic', 'schaertel', 'schedul', 'schemat', 'scheme', 'schenectadi', 'schmidt', 'schneider', 'schnopia', 'scholar', 'scholarli', 'scholarship', 'school', 'schwartz', 'sci', 'scienc', 'scientif', 'scientist', 'sco', 'scoop', 'scope', 'score', 'scorer', 'scot', 'scotia', 'scotland', 'scott', 'scout', 'scrambl', 'scrap', 'scratch', 'scream', 'screen', 'screw', 'scribe', 'script', 'scriptur', 'scroll', 'scrutini', 'scsi', 'sd', 'se', 'sea', 'seagat', 'seal', 'sean', 'sear', 'search', 'season', 'seat', 'seattl', 'sec', 'seca', 'second', 'secondari', 'secondli', 'secreci', 'secret', 'secretari', 'sect', 'section', 'sector', 'secular', 'secur', 'see', 'seed', 'seek', 'seem', 'seemingli', 'seen', 'segment', 'seig', 'seiz', 'seizur', 'selann', 'seldom', 'select', 'self', 'selfish', 'sell', 'seller', 'semant', 'semi', 'semiconductor', 'senat', 'send', 'sender', 'senior', 'sens', 'sensat', 'senseless', 'sensibl', 'sensit', 'sensor', 'sentenc', 'sentiment', 'separ', 'seper', 'septemb', 'septuagint', 'sequenc', 'sera', 'serb', 'serbia', 'serbian', 'serdar', 'seri', 'serial', 'seriou', 'serious', 'sermon', 'serv', 'servant', 'server', 'servic', 'session', 'set', 'settl', 'settlement', 'settler', 'setup', 'seven', 'seventh', 'seventi', 'sever', 'sewer', 'sex', 'sexual', 'sez', 'sf', 'sfwa', 'sgi', 'sh', 'shack', 'shade', 'shadow', 'shafer', 'shaft', 'shah', 'shake', 'shall', 'sham', 'shame', 'shamir', 'shannon', 'shape', 'share', 'sharewar', 'shark', 'sharp', 'shaw', 'shawn', 'shazad', 'she', 'shea', 'shed', 'sheep', 'sheer', 'sheesh', 'sheet', 'shelf', 'shell', 'shellgat', 'shepherd', 'sheppard', 'sherri', 'shield', 'shift', 'shifter', 'shin', 'shine', 'ship', 'shit', 'shnekendorf', 'shneyder', 'sho', 'shock', 'shoe', 'shoot', 'shop', 'shopper', 'shore', 'short', 'shorten', 'shorter', 'shortli', 'shostack', 'shot', 'shotgun', 'should', 'shoulder', 'shout', 'shove', 'show', 'shred', 'shrill', 'shrink', 'shut', 'shutout', 'shuttl', 'si', 'sic', 'sick', 'side', 'sideway', 'sieg', 'siemen', 'siemon', 'sig', 'sigh', 'sight', 'sigma', 'sign', 'signal', 'signatur', 'signifi', 'signific', 'significantli', 'silenc', 'silent', 'silicon', 'silli', 'silver', 'silverman', 'simchik', 'similar', 'similarli', 'simm', 'simon', 'simpl', 'simpler', 'simplest', 'simpli', 'simplic', 'simplifi', 'simpson', 'simul', 'simultan', 'sin', 'sinc', 'sincer', 'sing', 'singapor', 'singer', 'singl', 'sink', 'sinless', 'sinner', 'sinu', 'sir', 'sirach', 'sister', 'sit', 'site', 'situat', 'six', 'sixsmith', 'sixteen', 'sixth', 'sixti', 'size', 'sj', 'skate', 'skeptic', 'ski', 'skill', 'skin', 'skip', 'skipjack', 'skull', 'sky', 'skydiv', 'slack', 'slam', 'slander', 'slap', 'slash', 'slaughter', 'slave', 'slaveri', 'slay', 'sleep', 'slice', 'slick', 'slide', 'slight', 'slightest', 'slightli', 'slip', 'slmr', 'slot', 'slow', 'slowdown', 'slower', 'slowli', 'slug', 'smack', 'small', 'smaller', 'smart', 'smartdriv', 'smarter', 'smash', 'smb', 'smear', 'smell', 'smile', 'smiley', 'smith', 'smoke', 'smooth', 'smoother', 'smoothli', 'smyth', 'snail', 'snake', 'snap', 'sneak', 'snichol', 'snip', 'sniper', 'snow', 'snyder', 'so', 'sob', 'social', 'socialist', 'societ', 'societi', 'sociopath', 'socket', 'sodom', 'soft', 'softwar', 'soil', 'solar', 'solari', 'solder', 'soldier', 'sole', 'solid', 'solomon', 'solut', 'solv', 'solvent', 'some', 'somebodi', 'someday', 'somehow', 'someon', 'someth', 'sometim', 'somewhat', 'somewher', 'son', 'song', 'soni', 'soon', 'sooner', 'sophist', 'sore', 'sorenson', 'sorri', 'sort', 'sorta', 'soul', 'sound', 'soundblast', 'soup', 'sourc', 'south', 'southern', 'southwest', 'southwestern', 'sovereignti', 'soviet', 'sox', 'sp', 'space', 'spacecraft', 'spain', 'span', 'spanish', 'spar', 'sparc', 'sparcstat', 'spare', 'spark', 'speak', 'speaker', 'spec', 'speci', 'special', 'specialist', 'specialti', 'specif', 'specifi', 'spectacular', 'spectrum', 'specul', 'speech', 'speed', 'speedi', 'speedstar', 'spell', 'spencer', 'spend', 'sperm', 'spew', 'sphere', 'spi', 'spice', 'spike', 'spill', 'spin', 'spira', 'spirit', 'spiritu', 'spite', 'spline', 'split', 'spoil', 'spokesman', 'sponsor', 'spook', 'sport', 'spot', 'spout', 'spray', 'spread', 'spring', 'springfield', 'squad', 'squar', 'squeez', 'squid', 'squish', 'ss', 'ssave', 'st', 'stab', 'stabil', 'stabl', 'stack', 'stacker', 'stadium', 'staff', 'stafford', 'stag', 'stage', 'stake', 'stalin', 'stall', 'stamp', 'stan', 'stanc', 'stand', 'standard', 'standoff', 'stanford', 'stanley', 'star', 'start', 'starter', 'startup', 'starv', 'stat', 'state', 'statement', 'static', 'station', 'statist', 'statment', 'statu', 'statut', 'stave', 'stay', 'std', 'steadi', 'steal', 'stealth', 'steam', 'steel', 'steer', 'stein', 'stem', 'step', 'steph', 'stephan', 'stephen', 'stephenson', 'stereo', 'stereotyp', 'stern', 'sternlight', 'steve', 'steven', 'stewart', 'stick', 'sticker', 'stiff', 'still', 'stimul', 'sting', 'stink', 'stipul', 'stir', 'stl', 'stock', 'stockholm', 'stockpil', 'stolen', 'stomach', 'stone', 'stop', 'storag', 'store', 'stori', 'storm', 'straight', 'straightforward', 'strain', 'strand', 'strang', 'stranger', 'strap', 'strateg', 'strategi', 'stratu', 'straw', 'strawman', 'streak', 'stream', 'streamlin', 'street', 'strength', 'stress', 'stretch', 'strict', 'strictli', 'strife', 'strike', 'string', 'strip', 'strive', 'strnlght', 'stroke', 'strong', 'stronger', 'strongest', 'strongli', 'structur', 'struggl', 'stuart', 'student', 'studi', 'studio', 'stuff', 'stumbl', 'stun', 'stunt', 'stupid', 'style', 'su', 'sub', 'subaru', 'submiss', 'submit', 'subscrib', 'subscript', 'subsequ', 'subset', 'subsid', 'substanc', 'substanti', 'substitut', 'subsystem', 'succeed', 'succes', 'success', 'such', 'suck', 'sudan', 'sudburi', 'sudden', 'suddenli', 'sue', 'suffer', 'suffic', 'suffici', 'sugar', 'suggest', 'suicid', 'suit', 'suitabl', 'sulfur', 'sullivan', 'sultan', 'sum', 'summar', 'summari', 'summer', 'sun', 'sunday', 'sundheim', 'suni', 'sunlight', 'sunnyval', 'suno', 'sunroof', 'super', 'supercomput', 'superior', 'supernatur', 'superstit', 'supplement', 'suppli', 'supplier', 'support', 'suppos', 'supposedli', 'suppress', 'suprem', 'supris', 'sure', 'surfac', 'surfer', 'surg', 'surgeri', 'surgic', 'surpass', 'surpris', 'surprisingli', 'surrend', 'surround', 'surveil', 'survey', 'surviv', 'survivor', 'susan', 'suscept', 'suspect', 'suspend', 'suspens', 'suspici', 'suspicion', 'sustain', 'sutherland', 'sutter', 'svga', 'sw', 'swallow', 'swap', 'swear', 'sweden', 'swedish', 'sweep', 'sweet', 'swim', 'swing', 'swiss', 'switch', 'switzerland', 'sword', 'sy', 'sydney', 'symbol', 'sympathi', 'symptom', 'synagogu', 'sync', 'synchron', 'synchrotron', 'syndrom', 'synthes', 'synthesi', 'syria', 'syrian', 'sysop', 'system', 'systemat', 'ta', 'tab', 'tabl', 'tablet', 'tach', 'tactic', 'tad', 'tag', 'taglin', 'tail', 'taint', 'take', 'tale', 'talent', 'talk', 'tammi', 'tamper', 'tan', 'tank', 'tao', 'tap', 'tape', 'tar', 'targa', 'target', 'tartar', 'task', 'tast', 'tate', 'tauru', 'tavar', 'tax', 'taxpay', 'taylor', 'tb', 'tc', 'tclock', 'tcora', 'te', 'tea', 'teach', 'teacher', 'team', 'teammat', 'tear', 'tech', 'techi', 'technic', 'technician', 'techniqu', 'technolog', 'ted', 'tedward', 'teenag', 'teeth', 'teflon', 'teh', 'tektronix', 'tel', 'telecast', 'telecom', 'telecommun', 'telephon', 'telescop', 'televis', 'televison', 'tell', 'telnet', 'telo', 'temp', 'temper', 'temperatur', 'tempest', 'templ', 'temporari', 'temporarili', 'tempt', 'ten', 'tend', 'tendenc', 'tender', 'tennesse', 'tension', 'tent', 'term', 'termin', 'terminolog', 'terrain', 'terri', 'terribl', 'terrif', 'terrifi', 'territori', 'terror', 'terrorist', 'tesla', 'test', 'testament', 'testifi', 'testimoni', 'tex', 'texa', 'text', 'textur', 'tga', 'th', 'tha', 'thank', 'thanx', 'that', 'the', 'thee', 'theft', 'their', 'theism', 'theist', 'them', 'theme', 'then', 'theodor', 'theolog', 'theologian', 'theoret', 'theori', 'therapi', 'there', 'therebi', 'therefor', 'thereof', 'thermal', 'these', 'thesi', 'they', 'thi', 'thick', 'thief', 'thier', 'thiev', 'thin', 'thing', 'thingi', 'think', 'third', 'thirteen', 'thirti', 'tho', 'thoma', 'thompson', 'thor', 'thorn', 'thorni', 'thorough', 'thoroughli', 'thorson', 'those', 'thou', 'though', 'thought', 'thousand', 'thread', 'threat', 'threaten', 'three', 'threshold', 'thrill', 'throat', 'throttl', 'through', 'throughout', 'throughput', 'throw', 'thru', 'thrust', 'thruster', 'thu', 'thug', 'thumb', 'thunder', 'thursday', 'thx', 'ti', 'ticket', 'tie', 'tiff', 'tiger', 'tight', 'tighten', 'tile', 'till', 'tilt', 'tim', 'time', 'timer', 'timmbak', 'timmon', 'timothi', 'tin', 'tini', 'tinpot', 'tion', 'tip', 'tire', 'tissu', 'titan', 'titl', 'tm', 'tn', 'to', 'toal', 'tobacco', 'tobia', 'today', 'todd', 'toe', 'togeth', 'toggl', 'toilet', 'token', 'tokyo', 'toler', 'toll', 'tom', 'tommi', 'tomorrow', 'ton', 'tone', 'tongu', 'toni', 'tonight', 'too', 'tool', 'toolkit', 'tooth', 'top', 'topic', 'tor', 'torch', 'toronto', 'torqu', 'tortur', 'toshiba', 'toss', 'total', 'touch', 'tough', 'tougher', 'tour', 'tourist', 'tournament', 'tout', 'toward', 'tower', 'town', 'toxic', 'toy', 'toyota', 'trace', 'track', 'tract', 'trade', 'trademark', 'tradit', 'traffic', 'tragedi', 'tragic', 'trail', 'trailer', 'train', 'trajectori', 'tran', 'tranni', 'transact', 'transfer', 'transform', 'transistor', 'transit', 'translat', 'transmiss', 'transmit', 'transmitt', 'transpar', 'transport', 'trap', 'trash', 'travel', 'treat', 'treati', 'treatment', 'tree', 'trek', 'tremend', 'trend', 'trevor', 'tri', 'trial', 'triangl', 'tribe', 'trick', 'tricki', 'trickl', 'trident', 'trigger', 'triniti', 'trinitron', 'trip', 'tripl', 'triumph', 'trivia', 'trivial', 'trondheim', 'troop', 'troubl', 'troy', 'truck', 'true', 'trueli', 'truetyp', 'truli', 'trunk', 'trust', 'truth', 'ts', 'tt', 'tti', 'tu', 'tube', 'tucson', 'tue', 'tuesday', 'tug', 'tune', 'turambar', 'turbo', 'turgeon', 'turgut', 'turin', 'turk', 'turkey', 'turkish', 'turkiy', 'turmoil', 'turn', 'turner', 'turpin', 'turtl', 'tutori', 'tv', 'twelv', 'twenti', 'twice', 'twin', 'twist', 'twm', 'two', 'tx', 'type', 'typic', 'typo', 'tyranni', 'tyrant', 'uart', 'ub', 'uc', 'ucbvax', 'ucc', 'uci', 'ucla', 'ucsd', 'ugli', 'uh', 'uiuc', 'uk', 'ulf', 'ultim', 'ultra', 'ultrix', 'um', 'ump', 'umpir', 'un', 'unabl', 'unaccept', 'unarm', 'unauthent', 'unawar', 'unbeliev', 'unbias', 'unchang', 'uncl', 'unclear', 'uncomfort', 'uncommon', 'uncompress', 'unconstitut', 'uncov', 'und', 'under', 'underarm', 'underdog', 'underestim', 'undergo', 'underground', 'underli', 'undermin', 'underscor', 'understand', 'undetect', 'unemploy', 'uneth', 'unfair', 'unfortun', 'unheat', 'uni', 'unicorn', 'unidentifi', 'uniform', 'uniformli', 'unintent', 'union', 'uniqu', 'unit', 'uniti', 'univ', 'univers', 'universitaet', 'unix', 'unknown', 'unlaw', 'unless', 'unlik', 'unlimit', 'unload', 'unlock', 'unmitig', 'unnecessari', 'unorgan', 'unpleas', 'unprotect', 'unprovok', 'unreason', 'unrel', 'unreli', 'unsupport', 'until', 'unto', 'unus', 'unusu', 'unwil', 'up', 'upcom', 'updat', 'upgrad', 'uphold', 'upi', 'upload', 'upon', 'upper', 'uppsala', 'upset', 'upward', 'urban', 'urbana', 'urbanachampaign', 'urg', 'urgent', 'urin', 'ursa', 'us', 'usa', 'usabl', 'usag', 'usc', 'use', 'useless', 'usenet', 'user', 'usrobot', 'ussr', 'usual', 'ut', 'utah', 'utexa', 'util', 'utter', 'utterli', 'utzoo', 'uucp', 'uuencod', 'uunet', 'uv', 'uva', 'va', 'vacat', 'vacuum', 'vagin', 'vagina', 'vagu', 'valentin', 'valeri', 'valid', 'valley', 'valu', 'valuabl', 'valv', 'van', 'vanc', 'vancouv', 'vandal', 'vanderbi', 'vanderbyl', 'vanish', 'vari', 'variabl', 'varianc', 'variant', 'variat', 'varieti', 'variou', 'vast', 'vastli', 'vax', 'vcr', 'veal', 'vector', 'vee', 'vega', 'veget', 'vehement', 'vehicl', 'veil', 'vein', 'veloc', 'vendor', 'vent', 'ventil', 'ventur', 'venu', 'ver', 'verbal', 'verdict', 'veri', 'verif', 'verifi', 'verili', 'vermont', 'vernon', 'vers', 'version', 'versu', 'vertic', 'vesa', 'vessel', 'vest', 'vesterman', 'veteran', 'vf', 'vfr', 'vga', 'vh', 'vi', 'via', 'vibrat', 'vice', 'viciou', 'victim', 'victor', 'victori', 'victoria', 'video', 'videotap', 'vietnam', 'view', 'viewer', 'viewpoint', 'vigor', 'vii', 'viii', 'vike', 'villag', 'vincent', 'violat', 'violenc', 'violent', 'viper', 'virago', 'virgin', 'virginia', 'virtu', 'virtual', 'viru', 'virus', 'visibl', 'vision', 'visit', 'visser', 'vista', 'visual', 'visualis', 'vital', 'vitamin', 'vl', 'vladimir', 'vlb', 'vm', 'vnew', 'vocal', 'vof', 'voic', 'void', 'vol', 'volt', 'voltag', 'volum', 'volunt', 'voluntari', 'von', 'vote', 'voter', 'voyag', 'vram', 'vs', 'vt', 'vu', 'vulner', 'vw', 'vx', 'wa', 'waco', 'wade', 'waffl', 'wagner', 'wagon', 'wail', 'wainwright', 'wait', 'wake', 'wale', 'walk', 'walker', 'wall', 'wallet', 'walsh', 'walter', 'wan', 'wander', 'wang', 'want', 'war', 'ward', 'warf', 'warfar', 'warm', 'warmer', 'warn', 'warp', 'warrant', 'warranti', 'warren', 'warrior', 'wash', 'washington', 'wasp', 'wast', 'watch', 'water', 'waterloo', 'watson', 'watt', 'wave', 'wavelength', 'wax', 'way', 'wayn', 'wc', 'wd', 'we', 'weak', 'weaker', 'weakl', 'wealth', 'wealthi', 'weapon', 'weaponri', 'wear', 'weather', 'web', 'webster', 'wed', 'wednesday', 'week', 'weekend', 'weekli', 'weeni', 'weigh', 'weight', 'weird', 'weiss', 'welcom', 'welfar', 'well', 'wellington', 'wendel', 'were', 'werth', 'wesleyan', 'west', 'western', 'westminst', 'wet', 'whack', 'what', 'whatev', 'whatsoev', 'wheel', 'wheeli', 'when', 'whenev', 'where', 'wherea', 'wherebi', 'wherev', 'whether', 'whi', 'which', 'while', 'whilst', 'whine', 'white', 'whitehead', 'whitsebd', 'whitsel', 'who', 'whoever', 'whole', 'whomev', 'whose', 'whugh', 'wi', 'wick', 'wide', 'wider', 'widespread', 'widget', 'width', 'wierd', 'wife', 'wiggl', 'wild', 'will', 'willi', 'william', 'willing', 'wilson', 'win', 'wind', 'window', 'winfield', 'wing', 'wingat', 'winner', 'winnipeg', 'winona', 'winter', 'wipe', 'wire', 'wiretap', 'wisconsin', 'wisdom', 'wise', 'wish', 'wit', 'with', 'withdraw', 'withhold', 'within', 'without', 'withstand', 'wive', 'wizard', 'wk', 'wlsmith', 'wm', 'wo', 'woe', 'wolf', 'wolfgang', 'wollongong', 'wolv', 'woman', 'women', 'wonder', 'wonderful', 'wong', 'wonnacott', 'wont', 'wood', 'wooden', 'woof', 'worcest', 'word', 'wordperfect', 'work', 'worker', 'workgroup', 'workplac', 'workshop', 'workstat', 'world', 'worldwid', 'worri', 'wors', 'worship', 'worst', 'worth', 'worthi', 'worthless', 'worthwhil', 'would', 'wound', 'wow', 'wp', 'wrap', 'wreck', 'wright', 'write', 'writer', 'wrong', 'wrt', 'ws', 'wwarf', 'wwi', 'wwii', 'xdm', 'xerox', 'xj', 'xli', 'xlib', 'xloadimag', 'xor', 'xpert', 'xref', 'xserver', 'xt', 'xterm', 'xtermin', 'xv', 'xview', 'xwindow', 'xxx', 'xxxx', 'ya', 'yale', 'yamaha', 'yank', 'yanke', 'yard', 'yassin', 'yawn', 'ye', 'yea', 'yeah', 'year', 'yeast', 'yeh', 'yell', 'yellow', 'yep', 'yesterday', 'yet', 'yield', 'yitzhak', 'yo', 'york', 'you', 'young', 'younger', 'youngstown', 'your', 'youth', 'yr', 'yuear', 'yugoslavia', 'yup', 'zealand', 'zen', 'zero', 'zeu', 'zhao', 'zijdenbo', 'zionism', 'zionist', 'zip', 'zone', 'zoolog', 'zoom']\n"
          ]
        },
        {
          "output_type": "stream",
          "name": "stderr",
          "text": [
            "/usr/local/lib/python3.7/dist-packages/sklearn/utils/deprecation.py:87: FutureWarning: Function get_feature_names is deprecated; get_feature_names is deprecated in 1.0 and will be removed in 1.2. Please use get_feature_names_out instead.\n",
            "  warnings.warn(msg, category=FutureWarning)\n"
          ]
        }
      ]
    },
    {
      "cell_type": "code",
      "source": [
        "print(count_vect.vocabulary_[\"presid\"])"
      ],
      "metadata": {
        "id": "Pu714Ap75sE-",
        "outputId": "e1f89fec-5604-48d3-bee8-5cae0d657455",
        "colab": {
          "base_uri": "https://localhost:8080/"
        }
      },
      "execution_count": 61,
      "outputs": [
        {
          "output_type": "stream",
          "name": "stdout",
          "text": [
            "4929\n"
          ]
        }
      ]
    },
    {
      "cell_type": "code",
      "source": [
        "#para el tp\n",
        "X_train_data.shape  \n",
        "# esto genera un vocabulario de 5801 palabras\n",
        "# 11314 es el total de articulos"
      ],
      "metadata": {
        "id": "1BEaR0znpMLY",
        "outputId": "272823e9-8d61-486b-c50a-f6d5ce9f5eba",
        "colab": {
          "base_uri": "https://localhost:8080/"
        }
      },
      "execution_count": 19,
      "outputs": [
        {
          "output_type": "execute_result",
          "data": {
            "text/plain": [
              "(11314, 5801)"
            ]
          },
          "metadata": {},
          "execution_count": 19
        }
      ]
    },
    {
      "metadata": {
        "id": "xvp0yqMvn5u8"
      },
      "cell_type": "markdown",
      "source": [
        "Utilice la función MultinomialNB de sklear para implementar un clasificador Naive Bayes discreto. Utilice smoothing laplaciano con alpha=3."
      ]
    },
    {
      "metadata": {
        "id": "SKbjTWPPlYU3",
        "colab": {
          "base_uri": "https://localhost:8080/"
        },
        "outputId": "d35933fc-7bbd-4f50-f848-a84446377640"
      },
      "cell_type": "code",
      "source": [
        "from sklearn.naive_bayes import MultinomialNB\n",
        "clf = MultinomialNB(alpha = 3)\n",
        "clf.fit(X_train_data, twenty_train[\"target\"])"
      ],
      "execution_count": 46,
      "outputs": [
        {
          "output_type": "execute_result",
          "data": {
            "text/plain": [
              "MultinomialNB(alpha=3)"
            ]
          },
          "metadata": {},
          "execution_count": 46
        }
      ]
    },
    {
      "cell_type": "code",
      "source": [
        "#para el tp\n",
        "twenty_train[\"target\"][5]"
      ],
      "metadata": {
        "id": "RWvSUwqQriax",
        "outputId": "f59868be-4152-470c-db84-a9dca9ce2b74",
        "colab": {
          "base_uri": "https://localhost:8080/"
        }
      },
      "execution_count": 47,
      "outputs": [
        {
          "output_type": "execute_result",
          "data": {
            "text/plain": [
              "4"
            ]
          },
          "metadata": {},
          "execution_count": 47
        }
      ]
    },
    {
      "metadata": {
        "id": "QtG52ZJdpMOV"
      },
      "cell_type": "markdown",
      "source": [
        "## Evaluación con el train set\n",
        "Evalúe el accuracy del modelo entrenado utilizando el train set."
      ]
    },
    {
      "cell_type": "code",
      "source": [
        "X_train_data.shape, twenty_train[\"target\"].shape"
      ],
      "metadata": {
        "id": "c1iQ50oi7yD7",
        "outputId": "e40fea2b-6b20-40d0-a88c-ea3f03212862",
        "colab": {
          "base_uri": "https://localhost:8080/"
        }
      },
      "execution_count": 62,
      "outputs": [
        {
          "output_type": "execute_result",
          "data": {
            "text/plain": [
              "((11314, 9139), (11314,))"
            ]
          },
          "metadata": {},
          "execution_count": 62
        }
      ]
    },
    {
      "metadata": {
        "id": "aXk0xVJrnxk-",
        "colab": {
          "base_uri": "https://localhost:8080/"
        },
        "outputId": "9ebd4c18-a40a-4d0f-c285-677ed3a80aed"
      },
      "cell_type": "code",
      "source": [
        "clf.score(X_train_data, twenty_train[\"target\"])"
      ],
      "execution_count": 48,
      "outputs": [
        {
          "output_type": "execute_result",
          "data": {
            "text/plain": [
              "0.9129397207000177"
            ]
          },
          "metadata": {},
          "execution_count": 48
        }
      ]
    },
    {
      "metadata": {
        "id": "gYCjQykXq0of"
      },
      "cell_type": "markdown",
      "source": [
        "# Evaluación con el test set\n",
        "Procese y convierta los artículos del test-set. Evalúe el accuracy del modelo con los parámetros obtenidos anteriormente utilizando el test-set."
      ]
    },
    {
      "metadata": {
        "id": "x_T_6JWGoedN"
      },
      "cell_type": "code",
      "source": [
        "twenty_test = fetch_20newsgroups(subset='test', shuffle=False)"
      ],
      "execution_count": 32,
      "outputs": []
    },
    {
      "cell_type": "code",
      "source": [
        "#para el tp\n",
        "len(twenty_test.data)"
      ],
      "metadata": {
        "id": "Ka_URzTFur09",
        "outputId": "8f219640-dd82-423e-d2e1-6c73b19dafb7",
        "colab": {
          "base_uri": "https://localhost:8080/"
        }
      },
      "execution_count": 33,
      "outputs": [
        {
          "output_type": "execute_result",
          "data": {
            "text/plain": [
              "7532"
            ]
          },
          "metadata": {},
          "execution_count": 33
        }
      ]
    },
    {
      "metadata": {
        "id": "BoX-jgDdpJlf",
        "colab": {
          "base_uri": "https://localhost:8080/"
        },
        "outputId": "6be9d4e2-6e35-4958-cb6a-fc2aae545e30"
      },
      "cell_type": "code",
      "source": [
        "#Procesando todos los artículos:\n",
        "articulos_procesados_test=list()\n",
        "for idx in range(len(twenty_test.data)):\n",
        "    if idx%1000==0:\n",
        "        print(f'se procesaron {idx} artículos')\n",
        "    art=twenty_test.data[idx]\n",
        "    tok=word_tokenize(art)\n",
        "    lem=[lemmatizer.lemmatize(x,pos='v') for x in tok]\n",
        "    stop = [x for x in lem if x not in stopwords.words('english')]\n",
        "    stem=[stemmer.stem(x) for x in stop]\n",
        "    alpha=[x for x in stem if x.isalpha()]\n",
        "    articulos_procesados_test.append(\" \".join(alpha))"
      ],
      "execution_count": 49,
      "outputs": [
        {
          "output_type": "stream",
          "name": "stdout",
          "text": [
            "se procesaron 0 artículos\n",
            "se procesaron 1000 artículos\n",
            "se procesaron 2000 artículos\n",
            "se procesaron 3000 artículos\n",
            "se procesaron 4000 artículos\n",
            "se procesaron 5000 artículos\n",
            "se procesaron 6000 artículos\n",
            "se procesaron 7000 artículos\n"
          ]
        }
      ]
    },
    {
      "cell_type": "code",
      "source": [
        "# Extracting features from articles\n",
        "from sklearn.feature_extraction.text import CountVectorizer\n",
        "count_vect = CountVectorizer(max_df=0.6,min_df=10) #chequear que max_df y min_df sean los que se piden\n",
        "count_vect.fit(articulos_procesados) #Aprende el vocabulario y le asigna un código a cada palabra"
      ],
      "metadata": {
        "id": "F4phsS_m2NCn",
        "outputId": "89a74c5f-ba55-4c24-a1d3-552270856a26",
        "colab": {
          "base_uri": "https://localhost:8080/"
        }
      },
      "execution_count": 66,
      "outputs": [
        {
          "output_type": "execute_result",
          "data": {
            "text/plain": [
              "CountVectorizer(max_df=0.6, min_df=10)"
            ]
          },
          "metadata": {},
          "execution_count": 66
        }
      ]
    },
    {
      "metadata": {
        "id": "WDJlssjrrlA7"
      },
      "cell_type": "code",
      "source": [
        "#Transforme los artículos de test procesados\n",
        "X_test_data= count_vect.transform(articulos_procesados_test) "
      ],
      "execution_count": 67,
      "outputs": []
    },
    {
      "cell_type": "code",
      "source": [
        "X_test_data.shape, twenty_test[\"target\"].shape"
      ],
      "metadata": {
        "id": "HsX_RWU13CaG",
        "outputId": "10756680-abdb-44fc-e3b1-bba51d366a8a",
        "colab": {
          "base_uri": "https://localhost:8080/"
        }
      },
      "execution_count": 68,
      "outputs": [
        {
          "output_type": "execute_result",
          "data": {
            "text/plain": [
              "((7532, 9139), (7532,))"
            ]
          },
          "metadata": {},
          "execution_count": 68
        }
      ]
    },
    {
      "cell_type": "code",
      "source": [
        "X_train_data.shape, twenty_train[\"target\"].shape"
      ],
      "metadata": {
        "id": "MVzY9D0p8H3v",
        "outputId": "5c37e04c-adcb-4b54-dac5-fd886a8601bc",
        "colab": {
          "base_uri": "https://localhost:8080/"
        }
      },
      "execution_count": 69,
      "outputs": [
        {
          "output_type": "execute_result",
          "data": {
            "text/plain": [
              "((11314, 9139), (11314,))"
            ]
          },
          "metadata": {},
          "execution_count": 69
        }
      ]
    },
    {
      "metadata": {
        "id": "abq_GeMFpw8c",
        "colab": {
          "base_uri": "https://localhost:8080/"
        },
        "outputId": "9d1245d5-e5ea-45e1-c4cf-624e90f071d7"
      },
      "cell_type": "code",
      "source": [
        "#Evalúe el score del modelo entrenado para el train set para los artículos de test\n",
        "# Esto se hace la evaluacion sobre el modelo que habia sido planteado para el train\n",
        "#clf.score(#SOLUCION AQUI)\n",
        "clf.score(X_test_data, twenty_test[\"target\"])"
      ],
      "execution_count": 70,
      "outputs": [
        {
          "output_type": "execute_result",
          "data": {
            "text/plain": [
              "0.7841210833775889"
            ]
          },
          "metadata": {},
          "execution_count": 70
        }
      ]
    }
  ]
}